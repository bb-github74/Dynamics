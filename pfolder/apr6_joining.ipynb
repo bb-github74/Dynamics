{
 "cells": [
  {
   "cell_type": "code",
   "execution_count": 1,
   "metadata": {},
   "outputs": [],
   "source": [
    "# Author: bbaasan\n",
    "# File: apr6_joining.ipynb\n",
    "# Created: 2024-04-06\n",
    "# Email: bbaasan@gmu.edu\n",
    "# Purpose: find missing info of tickers not in EDGAR, NYSE, NASDAQ, OTC markets"
   ]
  },
  {
   "cell_type": "code",
   "execution_count": 44,
   "metadata": {},
   "outputs": [],
   "source": [
    "import pandas as pd \n",
    "import warnings\n",
    "warnings.filterwarnings('ignore')"
   ]
  },
  {
   "cell_type": "code",
   "execution_count": 3,
   "metadata": {},
   "outputs": [],
   "source": [
    "aggregated = pd.read_pickle('D:/Earning2/data/aggregated.pkl')"
   ]
  },
  {
   "cell_type": "code",
   "execution_count": 4,
   "metadata": {},
   "outputs": [
    {
     "data": {
      "text/html": [
       "<div>\n",
       "<style scoped>\n",
       "    .dataframe tbody tr th:only-of-type {\n",
       "        vertical-align: middle;\n",
       "    }\n",
       "\n",
       "    .dataframe tbody tr th {\n",
       "        vertical-align: top;\n",
       "    }\n",
       "\n",
       "    .dataframe thead th {\n",
       "        text-align: right;\n",
       "    }\n",
       "</style>\n",
       "<table border=\"1\" class=\"dataframe\">\n",
       "  <thead>\n",
       "    <tr style=\"text-align: right;\">\n",
       "      <th></th>\n",
       "      <th>id</th>\n",
       "      <th>url</th>\n",
       "      <th>file_from</th>\n",
       "      <th>tagged</th>\n",
       "      <th>transcript</th>\n",
       "      <th>clean</th>\n",
       "      <th>date</th>\n",
       "      <th>stock</th>\n",
       "      <th>tick</th>\n",
       "      <th>meeting_date</th>\n",
       "      <th>...</th>\n",
       "      <th>sma200_close</th>\n",
       "      <th>sma50_vol</th>\n",
       "      <th>sma200_vol</th>\n",
       "      <th>target</th>\n",
       "      <th>delisted</th>\n",
       "      <th>acquisitions</th>\n",
       "      <th>bancrupt</th>\n",
       "      <th>changed</th>\n",
       "      <th>spinoff</th>\n",
       "      <th>ect</th>\n",
       "    </tr>\n",
       "  </thead>\n",
       "  <tbody>\n",
       "    <tr>\n",
       "      <th>113946</th>\n",
       "      <td>1546</td>\n",
       "      <td>https://seekingalpha.com/article/930171-dover-...</td>\n",
       "      <td>0175</td>\n",
       "      <td>Dover Corporation (NYSE:DOV) Q3 2012 Earnings ...</td>\n",
       "      <td>[Dover Corporation (NYSE:DOV) Q3 2012 Earnings...</td>\n",
       "      <td>[corporation, cerepak, financial, investor, an...</td>\n",
       "      <td>2012-10-17</td>\n",
       "      <td>NYSE</td>\n",
       "      <td>DOV</td>\n",
       "      <td>2012-10-17</td>\n",
       "      <td>...</td>\n",
       "      <td>32.404270</td>\n",
       "      <td>2394427.38</td>\n",
       "      <td>2340225.42</td>\n",
       "      <td>0</td>\n",
       "      <td>0</td>\n",
       "      <td>0</td>\n",
       "      <td>0</td>\n",
       "      <td>0</td>\n",
       "      <td>1</td>\n",
       "      <td>1</td>\n",
       "    </tr>\n",
       "    <tr>\n",
       "      <th>113952</th>\n",
       "      <td>1554</td>\n",
       "      <td>https://seekingalpha.com/article/929901-hallib...</td>\n",
       "      <td>0175</td>\n",
       "      <td>Halliburton (NYSE:HAL) Q3 2012 Earnings Call O...</td>\n",
       "      <td>[Halliburton (NYSE:HAL) Q3 2012 Earnings Call ...</td>\n",
       "      <td>[halliburton, director, investor, financial, c...</td>\n",
       "      <td>2012-10-17</td>\n",
       "      <td>NYSE</td>\n",
       "      <td>HAL</td>\n",
       "      <td>2012-10-17</td>\n",
       "      <td>...</td>\n",
       "      <td>28.113018</td>\n",
       "      <td>12230288.00</td>\n",
       "      <td>14810852.00</td>\n",
       "      <td>1</td>\n",
       "      <td>0</td>\n",
       "      <td>0</td>\n",
       "      <td>0</td>\n",
       "      <td>0</td>\n",
       "      <td>0</td>\n",
       "      <td>1</td>\n",
       "    </tr>\n",
       "    <tr>\n",
       "      <th>113951</th>\n",
       "      <td>1553</td>\n",
       "      <td>https://seekingalpha.com/article/929911-csx-ma...</td>\n",
       "      <td>0175</td>\n",
       "      <td>CSX (NASDAQ:CSX) Q3 2012 Earnings Call October...</td>\n",
       "      <td>[CSX (NASDAQ:CSX) Q3 2012 Earnings Call Octobe...</td>\n",
       "      <td>[investor, committee, marketing, operating, fi...</td>\n",
       "      <td>2012-10-17</td>\n",
       "      <td>NASDAQ</td>\n",
       "      <td>CSX</td>\n",
       "      <td>2012-10-17</td>\n",
       "      <td>...</td>\n",
       "      <td>6.178656</td>\n",
       "      <td>21269730.00</td>\n",
       "      <td>27394402.50</td>\n",
       "      <td>1</td>\n",
       "      <td>0</td>\n",
       "      <td>0</td>\n",
       "      <td>0</td>\n",
       "      <td>0</td>\n",
       "      <td>0</td>\n",
       "      <td>1</td>\n",
       "    </tr>\n",
       "    <tr>\n",
       "      <th>113940</th>\n",
       "      <td>1540</td>\n",
       "      <td>https://seekingalpha.com/article/930361-fulton...</td>\n",
       "      <td>0175</td>\n",
       "      <td>Fulton Financial (NASDAQ:FULT) Q3 2012 Earning...</td>\n",
       "      <td>[Fulton Financial (NASDAQ:FULT) Q3 2012 Earnin...</td>\n",
       "      <td>[financial, fult, wakeley, committee, officio,...</td>\n",
       "      <td>2012-10-17</td>\n",
       "      <td>NASDAQ</td>\n",
       "      <td>FULT</td>\n",
       "      <td>2012-10-17</td>\n",
       "      <td>...</td>\n",
       "      <td>7.365196</td>\n",
       "      <td>1083936.00</td>\n",
       "      <td>1243970.50</td>\n",
       "      <td>1</td>\n",
       "      <td>0</td>\n",
       "      <td>0</td>\n",
       "      <td>0</td>\n",
       "      <td>0</td>\n",
       "      <td>0</td>\n",
       "      <td>1</td>\n",
       "    </tr>\n",
       "    <tr>\n",
       "      <th>117620</th>\n",
       "      <td>6876</td>\n",
       "      <td>https://seekingalpha.com/article/931171-nves-c...</td>\n",
       "      <td>0175</td>\n",
       "      <td>NVE Corporation (NASDAQ:NVEC) F2Q13 Earnings C...</td>\n",
       "      <td>[NVE Corporation (NASDAQ:NVEC) F2Q13 Earnings ...</td>\n",
       "      <td>[nve, corporation, nvec, reynders, financial, ...</td>\n",
       "      <td>2012-10-17</td>\n",
       "      <td>NASDAQ</td>\n",
       "      <td>NVEC</td>\n",
       "      <td>2012-10-17</td>\n",
       "      <td>...</td>\n",
       "      <td>35.937213</td>\n",
       "      <td>15626.00</td>\n",
       "      <td>16996.00</td>\n",
       "      <td>1</td>\n",
       "      <td>0</td>\n",
       "      <td>0</td>\n",
       "      <td>0</td>\n",
       "      <td>0</td>\n",
       "      <td>0</td>\n",
       "      <td>1</td>\n",
       "    </tr>\n",
       "  </tbody>\n",
       "</table>\n",
       "<p>5 rows × 23 columns</p>\n",
       "</div>"
      ],
      "text/plain": [
       "          id                                                url file_from  \\\n",
       "113946  1546  https://seekingalpha.com/article/930171-dover-...      0175   \n",
       "113952  1554  https://seekingalpha.com/article/929901-hallib...      0175   \n",
       "113951  1553  https://seekingalpha.com/article/929911-csx-ma...      0175   \n",
       "113940  1540  https://seekingalpha.com/article/930361-fulton...      0175   \n",
       "117620  6876  https://seekingalpha.com/article/931171-nves-c...      0175   \n",
       "\n",
       "                                                   tagged  \\\n",
       "113946  Dover Corporation (NYSE:DOV) Q3 2012 Earnings ...   \n",
       "113952  Halliburton (NYSE:HAL) Q3 2012 Earnings Call O...   \n",
       "113951  CSX (NASDAQ:CSX) Q3 2012 Earnings Call October...   \n",
       "113940  Fulton Financial (NASDAQ:FULT) Q3 2012 Earning...   \n",
       "117620  NVE Corporation (NASDAQ:NVEC) F2Q13 Earnings C...   \n",
       "\n",
       "                                               transcript  \\\n",
       "113946  [Dover Corporation (NYSE:DOV) Q3 2012 Earnings...   \n",
       "113952  [Halliburton (NYSE:HAL) Q3 2012 Earnings Call ...   \n",
       "113951  [CSX (NASDAQ:CSX) Q3 2012 Earnings Call Octobe...   \n",
       "113940  [Fulton Financial (NASDAQ:FULT) Q3 2012 Earnin...   \n",
       "117620  [NVE Corporation (NASDAQ:NVEC) F2Q13 Earnings ...   \n",
       "\n",
       "                                                    clean       date   stock  \\\n",
       "113946  [corporation, cerepak, financial, investor, an... 2012-10-17    NYSE   \n",
       "113952  [halliburton, director, investor, financial, c... 2012-10-17    NYSE   \n",
       "113951  [investor, committee, marketing, operating, fi... 2012-10-17  NASDAQ   \n",
       "113940  [financial, fult, wakeley, committee, officio,... 2012-10-17  NASDAQ   \n",
       "117620  [nve, corporation, nvec, reynders, financial, ... 2012-10-17  NASDAQ   \n",
       "\n",
       "        tick meeting_date  ...  sma200_close    sma50_vol   sma200_vol  \\\n",
       "113946   DOV   2012-10-17  ...     32.404270   2394427.38   2340225.42   \n",
       "113952   HAL   2012-10-17  ...     28.113018  12230288.00  14810852.00   \n",
       "113951   CSX   2012-10-17  ...      6.178656  21269730.00  27394402.50   \n",
       "113940  FULT   2012-10-17  ...      7.365196   1083936.00   1243970.50   \n",
       "117620  NVEC   2012-10-17  ...     35.937213     15626.00     16996.00   \n",
       "\n",
       "        target  delisted  acquisitions bancrupt  changed  spinoff  ect  \n",
       "113946       0         0             0        0        0        1    1  \n",
       "113952       1         0             0        0        0        0    1  \n",
       "113951       1         0             0        0        0        0    1  \n",
       "113940       1         0             0        0        0        0    1  \n",
       "117620       1         0             0        0        0        0    1  \n",
       "\n",
       "[5 rows x 23 columns]"
      ]
     },
     "execution_count": 4,
     "metadata": {},
     "output_type": "execute_result"
    }
   ],
   "source": [
    "aggregated.head()"
   ]
  },
  {
   "cell_type": "markdown",
   "metadata": {},
   "source": [
    "#### NASDAQ"
   ]
  },
  {
   "cell_type": "code",
   "execution_count": 6,
   "metadata": {},
   "outputs": [],
   "source": [
    "nas_listed = pd.read_csv('D:/Data/nasdaq/nasdaq/nasdaq_listed.csv')\n",
    "nas_screener = pd.read_csv('D:/Data/nasdaq/nasdaq/nasdaq_screener.csv')\n",
    "nas_traded = pd.read_csv('D:/Data/nasdaq/nasdaq/nasdaq_traded.csv')"
   ]
  },
  {
   "cell_type": "code",
   "execution_count": 7,
   "metadata": {},
   "outputs": [],
   "source": [
    "from functools import reduce\n",
    "df_nasdaq = [nas_traded, nas_listed, nas_screener]"
   ]
  },
  {
   "cell_type": "code",
   "execution_count": 8,
   "metadata": {},
   "outputs": [],
   "source": [
    "nasdaq = reduce(lambda left, right: pd.merge(left, right, on='Symbol', how='left'), df_nasdaq)"
   ]
  },
  {
   "cell_type": "markdown",
   "metadata": {},
   "source": [
    "#### NYSE"
   ]
  },
  {
   "cell_type": "code",
   "execution_count": 9,
   "metadata": {},
   "outputs": [],
   "source": [
    "nyse_archive_listed = pd.read_csv('D:/Data/nyse_other_listings/archive/nyse_listed.csv')\n",
    "nyse_archive_other = pd.read_csv('D:/Data/nyse_other_listings/archive/other_listed.csv')"
   ]
  },
  {
   "cell_type": "code",
   "execution_count": 10,
   "metadata": {},
   "outputs": [],
   "source": [
    "nyse_archive = nyse_archive_listed.merge(nyse_archive_other, on='ACT_Symbol', how='right')"
   ]
  },
  {
   "cell_type": "code",
   "execution_count": 11,
   "metadata": {},
   "outputs": [],
   "source": [
    "nyse_data_listed = pd.read_csv('D:/Data/nyse_other_listings/data/nyse_listed.csv')\n",
    "nyse_data_other = pd.read_csv('D:/Data/nyse_other_listings/data/other-listed_csv.csv')\n",
    "\n",
    "nyse_data_listed = nyse_data_listed.rename({'ACT_Symbol':'Symbol'},axis=1)\n",
    "nyse_data_other = nyse_data_other.rename({'ACT Symbol':'Symbol'},axis=1)"
   ]
  },
  {
   "cell_type": "code",
   "execution_count": 12,
   "metadata": {},
   "outputs": [],
   "source": [
    "nyse_data = nyse_data_other.merge(nyse_data_listed, on='Symbol', how='left')"
   ]
  },
  {
   "cell_type": "markdown",
   "metadata": {},
   "source": [
    "#### Over-The-Counter Market"
   ]
  },
  {
   "cell_type": "code",
   "execution_count": 13,
   "metadata": {},
   "outputs": [
    {
     "data": {
      "text/html": [
       "<div>\n",
       "<style scoped>\n",
       "    .dataframe tbody tr th:only-of-type {\n",
       "        vertical-align: middle;\n",
       "    }\n",
       "\n",
       "    .dataframe tbody tr th {\n",
       "        vertical-align: top;\n",
       "    }\n",
       "\n",
       "    .dataframe thead th {\n",
       "        text-align: right;\n",
       "    }\n",
       "</style>\n",
       "<table border=\"1\" class=\"dataframe\">\n",
       "  <thead>\n",
       "    <tr style=\"text-align: right;\">\n",
       "      <th></th>\n",
       "      <th>Symbol</th>\n",
       "      <th>Security Name</th>\n",
       "      <th>Tier</th>\n",
       "      <th>Price</th>\n",
       "      <th>Change %</th>\n",
       "      <th>Vol</th>\n",
       "      <th>Sec Type</th>\n",
       "      <th>Country</th>\n",
       "      <th>State</th>\n",
       "    </tr>\n",
       "  </thead>\n",
       "  <tbody>\n",
       "    <tr>\n",
       "      <th>0</th>\n",
       "      <td>AAAIF</td>\n",
       "      <td>ALTERNATIVE INVSTMENT TR</td>\n",
       "      <td>Pink Current</td>\n",
       "      <td>0.00</td>\n",
       "      <td>NaN</td>\n",
       "      <td>0</td>\n",
       "      <td>Fund</td>\n",
       "      <td>NaN</td>\n",
       "      <td>NaN</td>\n",
       "    </tr>\n",
       "    <tr>\n",
       "      <th>1</th>\n",
       "      <td>AAALF</td>\n",
       "      <td>AAREAL BANK AG AKT</td>\n",
       "      <td>Pink Current</td>\n",
       "      <td>31.99</td>\n",
       "      <td>NaN</td>\n",
       "      <td>0</td>\n",
       "      <td>Foreign Ordinary Shares</td>\n",
       "      <td>Germany</td>\n",
       "      <td>NaN</td>\n",
       "    </tr>\n",
       "  </tbody>\n",
       "</table>\n",
       "</div>"
      ],
      "text/plain": [
       "  Symbol             Security Name          Tier  Price  Change %  Vol  \\\n",
       "0  AAAIF  ALTERNATIVE INVSTMENT TR  Pink Current   0.00       NaN    0   \n",
       "1  AAALF        AAREAL BANK AG AKT  Pink Current  31.99       NaN    0   \n",
       "\n",
       "                  Sec Type  Country State  \n",
       "0                     Fund      NaN   NaN  \n",
       "1  Foreign Ordinary Shares  Germany   NaN  "
      ]
     },
     "execution_count": 13,
     "metadata": {},
     "output_type": "execute_result"
    }
   ],
   "source": [
    "otc_screener = pd.read_csv('D:/Data/otc_stock_screener.csv')\n",
    "otc_screener.head(2)"
   ]
  },
  {
   "cell_type": "markdown",
   "metadata": {},
   "source": [
    "#### EDGAR"
   ]
  },
  {
   "cell_type": "code",
   "execution_count": 14,
   "metadata": {},
   "outputs": [
    {
     "data": {
      "text/html": [
       "<div>\n",
       "<style scoped>\n",
       "    .dataframe tbody tr th:only-of-type {\n",
       "        vertical-align: middle;\n",
       "    }\n",
       "\n",
       "    .dataframe tbody tr th {\n",
       "        vertical-align: top;\n",
       "    }\n",
       "\n",
       "    .dataframe thead th {\n",
       "        text-align: right;\n",
       "    }\n",
       "</style>\n",
       "<table border=\"1\" class=\"dataframe\">\n",
       "  <thead>\n",
       "    <tr style=\"text-align: right;\">\n",
       "      <th></th>\n",
       "      <th>cik_str</th>\n",
       "      <th>ticker</th>\n",
       "      <th>title</th>\n",
       "    </tr>\n",
       "  </thead>\n",
       "  <tbody>\n",
       "    <tr>\n",
       "      <th>0</th>\n",
       "      <td>789019</td>\n",
       "      <td>MSFT</td>\n",
       "      <td>MICROSOFT CORP</td>\n",
       "    </tr>\n",
       "    <tr>\n",
       "      <th>1</th>\n",
       "      <td>320193</td>\n",
       "      <td>AAPL</td>\n",
       "      <td>Apple Inc.</td>\n",
       "    </tr>\n",
       "  </tbody>\n",
       "</table>\n",
       "</div>"
      ],
      "text/plain": [
       "  cik_str ticker           title\n",
       "0  789019   MSFT  MICROSOFT CORP\n",
       "1  320193   AAPL      Apple Inc."
      ]
     },
     "execution_count": 14,
     "metadata": {},
     "output_type": "execute_result"
    }
   ],
   "source": [
    "edgar = pd.read_json('D:/Data/company_tickers.json').T\n",
    "edgar.head(2)"
   ]
  },
  {
   "cell_type": "code",
   "execution_count": 15,
   "metadata": {},
   "outputs": [],
   "source": [
    "aggregated = (aggregated\n",
    " .assign(nasdaq = lambda x: x['tick'].isin(nasdaq['Symbol'].values).astype(int))\n",
    " .assign(nyse = lambda x: x['tick'].isin(nyse_data['Symbol'].values).astype(int))\n",
    " .assign(otc = lambda x: x['tick'].isin(otc_screener['Symbol'].values).astype(int))\n",
    " .assign(edgar = lambda x: x['tick'].isin(edgar['ticker'].values).astype(int))\n",
    " )"
   ]
  },
  {
   "cell_type": "code",
   "execution_count": 19,
   "metadata": {},
   "outputs": [
    {
     "data": {
      "text/html": [
       "<div>\n",
       "<style scoped>\n",
       "    .dataframe tbody tr th:only-of-type {\n",
       "        vertical-align: middle;\n",
       "    }\n",
       "\n",
       "    .dataframe tbody tr th {\n",
       "        vertical-align: top;\n",
       "    }\n",
       "\n",
       "    .dataframe thead th {\n",
       "        text-align: right;\n",
       "    }\n",
       "</style>\n",
       "<table border=\"1\" class=\"dataframe\">\n",
       "  <thead>\n",
       "    <tr style=\"text-align: right;\">\n",
       "      <th></th>\n",
       "      <th>id</th>\n",
       "      <th>url</th>\n",
       "      <th>file_from</th>\n",
       "      <th>tagged</th>\n",
       "      <th>transcript</th>\n",
       "      <th>clean</th>\n",
       "      <th>date</th>\n",
       "      <th>stock</th>\n",
       "      <th>tick</th>\n",
       "      <th>meeting_date</th>\n",
       "      <th>...</th>\n",
       "      <th>delisted</th>\n",
       "      <th>acquisitions</th>\n",
       "      <th>bancrupt</th>\n",
       "      <th>changed</th>\n",
       "      <th>spinoff</th>\n",
       "      <th>ect</th>\n",
       "      <th>nasdaq</th>\n",
       "      <th>nyse</th>\n",
       "      <th>otc</th>\n",
       "      <th>edgar</th>\n",
       "    </tr>\n",
       "  </thead>\n",
       "  <tbody>\n",
       "    <tr>\n",
       "      <th>113946</th>\n",
       "      <td>1546</td>\n",
       "      <td>https://seekingalpha.com/article/930171-dover-...</td>\n",
       "      <td>0175</td>\n",
       "      <td>Dover Corporation (NYSE:DOV) Q3 2012 Earnings ...</td>\n",
       "      <td>[Dover Corporation (NYSE:DOV) Q3 2012 Earnings...</td>\n",
       "      <td>[corporation, cerepak, financial, investor, an...</td>\n",
       "      <td>2012-10-17</td>\n",
       "      <td>NYSE</td>\n",
       "      <td>DOV</td>\n",
       "      <td>2012-10-17</td>\n",
       "      <td>...</td>\n",
       "      <td>0</td>\n",
       "      <td>0</td>\n",
       "      <td>0</td>\n",
       "      <td>0</td>\n",
       "      <td>1</td>\n",
       "      <td>1</td>\n",
       "      <td>1</td>\n",
       "      <td>1</td>\n",
       "      <td>0</td>\n",
       "      <td>1</td>\n",
       "    </tr>\n",
       "    <tr>\n",
       "      <th>113952</th>\n",
       "      <td>1554</td>\n",
       "      <td>https://seekingalpha.com/article/929901-hallib...</td>\n",
       "      <td>0175</td>\n",
       "      <td>Halliburton (NYSE:HAL) Q3 2012 Earnings Call O...</td>\n",
       "      <td>[Halliburton (NYSE:HAL) Q3 2012 Earnings Call ...</td>\n",
       "      <td>[halliburton, director, investor, financial, c...</td>\n",
       "      <td>2012-10-17</td>\n",
       "      <td>NYSE</td>\n",
       "      <td>HAL</td>\n",
       "      <td>2012-10-17</td>\n",
       "      <td>...</td>\n",
       "      <td>0</td>\n",
       "      <td>0</td>\n",
       "      <td>0</td>\n",
       "      <td>0</td>\n",
       "      <td>0</td>\n",
       "      <td>1</td>\n",
       "      <td>1</td>\n",
       "      <td>1</td>\n",
       "      <td>0</td>\n",
       "      <td>1</td>\n",
       "    </tr>\n",
       "    <tr>\n",
       "      <th>113951</th>\n",
       "      <td>1553</td>\n",
       "      <td>https://seekingalpha.com/article/929911-csx-ma...</td>\n",
       "      <td>0175</td>\n",
       "      <td>CSX (NASDAQ:CSX) Q3 2012 Earnings Call October...</td>\n",
       "      <td>[CSX (NASDAQ:CSX) Q3 2012 Earnings Call Octobe...</td>\n",
       "      <td>[investor, committee, marketing, operating, fi...</td>\n",
       "      <td>2012-10-17</td>\n",
       "      <td>NASDAQ</td>\n",
       "      <td>CSX</td>\n",
       "      <td>2012-10-17</td>\n",
       "      <td>...</td>\n",
       "      <td>0</td>\n",
       "      <td>0</td>\n",
       "      <td>0</td>\n",
       "      <td>0</td>\n",
       "      <td>0</td>\n",
       "      <td>1</td>\n",
       "      <td>1</td>\n",
       "      <td>1</td>\n",
       "      <td>0</td>\n",
       "      <td>1</td>\n",
       "    </tr>\n",
       "    <tr>\n",
       "      <th>113940</th>\n",
       "      <td>1540</td>\n",
       "      <td>https://seekingalpha.com/article/930361-fulton...</td>\n",
       "      <td>0175</td>\n",
       "      <td>Fulton Financial (NASDAQ:FULT) Q3 2012 Earning...</td>\n",
       "      <td>[Fulton Financial (NASDAQ:FULT) Q3 2012 Earnin...</td>\n",
       "      <td>[financial, fult, wakeley, committee, officio,...</td>\n",
       "      <td>2012-10-17</td>\n",
       "      <td>NASDAQ</td>\n",
       "      <td>FULT</td>\n",
       "      <td>2012-10-17</td>\n",
       "      <td>...</td>\n",
       "      <td>0</td>\n",
       "      <td>0</td>\n",
       "      <td>0</td>\n",
       "      <td>0</td>\n",
       "      <td>0</td>\n",
       "      <td>1</td>\n",
       "      <td>1</td>\n",
       "      <td>0</td>\n",
       "      <td>0</td>\n",
       "      <td>1</td>\n",
       "    </tr>\n",
       "    <tr>\n",
       "      <th>117620</th>\n",
       "      <td>6876</td>\n",
       "      <td>https://seekingalpha.com/article/931171-nves-c...</td>\n",
       "      <td>0175</td>\n",
       "      <td>NVE Corporation (NASDAQ:NVEC) F2Q13 Earnings C...</td>\n",
       "      <td>[NVE Corporation (NASDAQ:NVEC) F2Q13 Earnings ...</td>\n",
       "      <td>[nve, corporation, nvec, reynders, financial, ...</td>\n",
       "      <td>2012-10-17</td>\n",
       "      <td>NASDAQ</td>\n",
       "      <td>NVEC</td>\n",
       "      <td>2012-10-17</td>\n",
       "      <td>...</td>\n",
       "      <td>0</td>\n",
       "      <td>0</td>\n",
       "      <td>0</td>\n",
       "      <td>0</td>\n",
       "      <td>0</td>\n",
       "      <td>1</td>\n",
       "      <td>1</td>\n",
       "      <td>0</td>\n",
       "      <td>0</td>\n",
       "      <td>1</td>\n",
       "    </tr>\n",
       "  </tbody>\n",
       "</table>\n",
       "<p>5 rows × 27 columns</p>\n",
       "</div>"
      ],
      "text/plain": [
       "          id                                                url file_from  \\\n",
       "113946  1546  https://seekingalpha.com/article/930171-dover-...      0175   \n",
       "113952  1554  https://seekingalpha.com/article/929901-hallib...      0175   \n",
       "113951  1553  https://seekingalpha.com/article/929911-csx-ma...      0175   \n",
       "113940  1540  https://seekingalpha.com/article/930361-fulton...      0175   \n",
       "117620  6876  https://seekingalpha.com/article/931171-nves-c...      0175   \n",
       "\n",
       "                                                   tagged  \\\n",
       "113946  Dover Corporation (NYSE:DOV) Q3 2012 Earnings ...   \n",
       "113952  Halliburton (NYSE:HAL) Q3 2012 Earnings Call O...   \n",
       "113951  CSX (NASDAQ:CSX) Q3 2012 Earnings Call October...   \n",
       "113940  Fulton Financial (NASDAQ:FULT) Q3 2012 Earning...   \n",
       "117620  NVE Corporation (NASDAQ:NVEC) F2Q13 Earnings C...   \n",
       "\n",
       "                                               transcript  \\\n",
       "113946  [Dover Corporation (NYSE:DOV) Q3 2012 Earnings...   \n",
       "113952  [Halliburton (NYSE:HAL) Q3 2012 Earnings Call ...   \n",
       "113951  [CSX (NASDAQ:CSX) Q3 2012 Earnings Call Octobe...   \n",
       "113940  [Fulton Financial (NASDAQ:FULT) Q3 2012 Earnin...   \n",
       "117620  [NVE Corporation (NASDAQ:NVEC) F2Q13 Earnings ...   \n",
       "\n",
       "                                                    clean       date   stock  \\\n",
       "113946  [corporation, cerepak, financial, investor, an... 2012-10-17    NYSE   \n",
       "113952  [halliburton, director, investor, financial, c... 2012-10-17    NYSE   \n",
       "113951  [investor, committee, marketing, operating, fi... 2012-10-17  NASDAQ   \n",
       "113940  [financial, fult, wakeley, committee, officio,... 2012-10-17  NASDAQ   \n",
       "117620  [nve, corporation, nvec, reynders, financial, ... 2012-10-17  NASDAQ   \n",
       "\n",
       "        tick meeting_date  ...  delisted  acquisitions  bancrupt  changed  \\\n",
       "113946   DOV   2012-10-17  ...         0             0         0        0   \n",
       "113952   HAL   2012-10-17  ...         0             0         0        0   \n",
       "113951   CSX   2012-10-17  ...         0             0         0        0   \n",
       "113940  FULT   2012-10-17  ...         0             0         0        0   \n",
       "117620  NVEC   2012-10-17  ...         0             0         0        0   \n",
       "\n",
       "        spinoff  ect nasdaq  nyse  otc  edgar  \n",
       "113946        1    1      1     1    0      1  \n",
       "113952        0    1      1     1    0      1  \n",
       "113951        0    1      1     1    0      1  \n",
       "113940        0    1      1     0    0      1  \n",
       "117620        0    1      1     0    0      1  \n",
       "\n",
       "[5 rows x 27 columns]"
      ]
     },
     "execution_count": 19,
     "metadata": {},
     "output_type": "execute_result"
    }
   ],
   "source": [
    "aggregated.head()"
   ]
  },
  {
   "cell_type": "code",
   "execution_count": 21,
   "metadata": {},
   "outputs": [
    {
     "name": "stdout",
     "output_type": "stream",
     "text": [
      "0 id\n",
      "1 url\n",
      "2 file_from\n",
      "3 tagged\n",
      "4 transcript\n",
      "5 clean\n",
      "6 date\n",
      "7 stock\n",
      "8 tick\n",
      "9 meeting_date\n",
      "10 close\n",
      "11 volume\n",
      "12 sma50_close\n",
      "13 sma200_close\n",
      "14 sma50_vol\n",
      "15 sma200_vol\n",
      "16 target\n",
      "17 delisted\n",
      "18 acquisitions\n",
      "19 bancrupt\n",
      "20 changed\n",
      "21 spinoff\n",
      "22 ect\n",
      "23 nasdaq\n",
      "24 nyse\n",
      "25 otc\n",
      "26 edgar\n"
     ]
    }
   ],
   "source": [
    "for n, i in enumerate(aggregated.columns):\n",
    "    print(n, i)"
   ]
  },
  {
   "cell_type": "code",
   "execution_count": 25,
   "metadata": {},
   "outputs": [],
   "source": [
    "# extract cols need for analysis\n",
    "working = (aggregated\n",
    ".iloc[:, [3,6,7,8,17,18,19,20,21,22, 23, 24, 25, 26] ]\n",
    " )"
   ]
  },
  {
   "cell_type": "code",
   "execution_count": 26,
   "metadata": {},
   "outputs": [
    {
     "data": {
      "text/html": [
       "<div>\n",
       "<style scoped>\n",
       "    .dataframe tbody tr th:only-of-type {\n",
       "        vertical-align: middle;\n",
       "    }\n",
       "\n",
       "    .dataframe tbody tr th {\n",
       "        vertical-align: top;\n",
       "    }\n",
       "\n",
       "    .dataframe thead th {\n",
       "        text-align: right;\n",
       "    }\n",
       "</style>\n",
       "<table border=\"1\" class=\"dataframe\">\n",
       "  <thead>\n",
       "    <tr style=\"text-align: right;\">\n",
       "      <th></th>\n",
       "      <th>tagged</th>\n",
       "      <th>date</th>\n",
       "      <th>stock</th>\n",
       "      <th>tick</th>\n",
       "      <th>delisted</th>\n",
       "      <th>acquisitions</th>\n",
       "      <th>bancrupt</th>\n",
       "      <th>changed</th>\n",
       "      <th>spinoff</th>\n",
       "      <th>ect</th>\n",
       "      <th>nasdaq</th>\n",
       "      <th>nyse</th>\n",
       "      <th>otc</th>\n",
       "      <th>edgar</th>\n",
       "    </tr>\n",
       "  </thead>\n",
       "  <tbody>\n",
       "    <tr>\n",
       "      <th>134639</th>\n",
       "      <td>Clean Coal Technologies Inc. (OTCQB:CCTC) Shar...</td>\n",
       "      <td>2013-03-27</td>\n",
       "      <td>OTCQB</td>\n",
       "      <td>CCTC</td>\n",
       "      <td>0</td>\n",
       "      <td>0</td>\n",
       "      <td>0</td>\n",
       "      <td>0</td>\n",
       "      <td>0</td>\n",
       "      <td>0</td>\n",
       "      <td>0</td>\n",
       "      <td>0</td>\n",
       "      <td>0</td>\n",
       "      <td>0</td>\n",
       "    </tr>\n",
       "    <tr>\n",
       "      <th>68827</th>\n",
       "      <td>Vedanta Resources Plc (OTCPK:VDNRF) F1Q14 Prod...</td>\n",
       "      <td>2013-07-31</td>\n",
       "      <td>OTCPK</td>\n",
       "      <td>VDNRF</td>\n",
       "      <td>0</td>\n",
       "      <td>0</td>\n",
       "      <td>0</td>\n",
       "      <td>0</td>\n",
       "      <td>0</td>\n",
       "      <td>0</td>\n",
       "      <td>0</td>\n",
       "      <td>0</td>\n",
       "      <td>0</td>\n",
       "      <td>0</td>\n",
       "    </tr>\n",
       "    <tr>\n",
       "      <th>19647</th>\n",
       "      <td>TETRAGON FINANCIAL (OTCPK:TGONF) 2013 Investor...</td>\n",
       "      <td>2013-08-11</td>\n",
       "      <td>OTCPK</td>\n",
       "      <td>TGONF</td>\n",
       "      <td>0</td>\n",
       "      <td>0</td>\n",
       "      <td>0</td>\n",
       "      <td>0</td>\n",
       "      <td>0</td>\n",
       "      <td>0</td>\n",
       "      <td>0</td>\n",
       "      <td>0</td>\n",
       "      <td>0</td>\n",
       "      <td>0</td>\n",
       "    </tr>\n",
       "    <tr>\n",
       "      <th>27444</th>\n",
       "      <td>Billabong International Ltd (OTCPK:BLLAF) F2Q2...</td>\n",
       "      <td>2014-02-20</td>\n",
       "      <td>OTCPK</td>\n",
       "      <td>BLLAF</td>\n",
       "      <td>0</td>\n",
       "      <td>0</td>\n",
       "      <td>0</td>\n",
       "      <td>0</td>\n",
       "      <td>0</td>\n",
       "      <td>0</td>\n",
       "      <td>0</td>\n",
       "      <td>0</td>\n",
       "      <td>0</td>\n",
       "      <td>0</td>\n",
       "    </tr>\n",
       "    <tr>\n",
       "      <th>75710</th>\n",
       "      <td>ERF Wireless, Inc. (OTC:ERFB) Shareholder Conf...</td>\n",
       "      <td>2014-08-28</td>\n",
       "      <td>OTC</td>\n",
       "      <td>ERFB</td>\n",
       "      <td>0</td>\n",
       "      <td>0</td>\n",
       "      <td>0</td>\n",
       "      <td>0</td>\n",
       "      <td>0</td>\n",
       "      <td>0</td>\n",
       "      <td>0</td>\n",
       "      <td>0</td>\n",
       "      <td>0</td>\n",
       "      <td>0</td>\n",
       "    </tr>\n",
       "    <tr>\n",
       "      <th>...</th>\n",
       "      <td>...</td>\n",
       "      <td>...</td>\n",
       "      <td>...</td>\n",
       "      <td>...</td>\n",
       "      <td>...</td>\n",
       "      <td>...</td>\n",
       "      <td>...</td>\n",
       "      <td>...</td>\n",
       "      <td>...</td>\n",
       "      <td>...</td>\n",
       "      <td>...</td>\n",
       "      <td>...</td>\n",
       "      <td>...</td>\n",
       "      <td>...</td>\n",
       "    </tr>\n",
       "    <tr>\n",
       "      <th>50918</th>\n",
       "      <td>Stolt-Nielsen Limited (OTCPK:SOIEF) Q2 2022 Ea...</td>\n",
       "      <td>2022-06-30</td>\n",
       "      <td>OTCPK</td>\n",
       "      <td>SOIEF</td>\n",
       "      <td>0</td>\n",
       "      <td>0</td>\n",
       "      <td>0</td>\n",
       "      <td>0</td>\n",
       "      <td>0</td>\n",
       "      <td>0</td>\n",
       "      <td>0</td>\n",
       "      <td>0</td>\n",
       "      <td>0</td>\n",
       "      <td>0</td>\n",
       "    </tr>\n",
       "    <tr>\n",
       "      <th>67713</th>\n",
       "      <td>Copper Mountain Mining Corporation. (CPPMF) Q2...</td>\n",
       "      <td>2022-07-25</td>\n",
       "      <td>noInfo</td>\n",
       "      <td>CPPMF</td>\n",
       "      <td>0</td>\n",
       "      <td>0</td>\n",
       "      <td>0</td>\n",
       "      <td>0</td>\n",
       "      <td>0</td>\n",
       "      <td>0</td>\n",
       "      <td>0</td>\n",
       "      <td>0</td>\n",
       "      <td>0</td>\n",
       "      <td>0</td>\n",
       "    </tr>\n",
       "    <tr>\n",
       "      <th>12476</th>\n",
       "      <td>HTG Molecular Diagnostics, Inc. (NASDAQ:HTGM) ...</td>\n",
       "      <td>2022-08-11</td>\n",
       "      <td>NASDAQ</td>\n",
       "      <td>HTGM</td>\n",
       "      <td>0</td>\n",
       "      <td>0</td>\n",
       "      <td>0</td>\n",
       "      <td>0</td>\n",
       "      <td>0</td>\n",
       "      <td>0</td>\n",
       "      <td>0</td>\n",
       "      <td>0</td>\n",
       "      <td>0</td>\n",
       "      <td>0</td>\n",
       "    </tr>\n",
       "    <tr>\n",
       "      <th>106033</th>\n",
       "      <td>Cengage Learning Holdings II, Inc. (OTC:CNGO) ...</td>\n",
       "      <td>2022-08-13</td>\n",
       "      <td>OTC</td>\n",
       "      <td>CNGO</td>\n",
       "      <td>0</td>\n",
       "      <td>0</td>\n",
       "      <td>0</td>\n",
       "      <td>0</td>\n",
       "      <td>0</td>\n",
       "      <td>0</td>\n",
       "      <td>0</td>\n",
       "      <td>0</td>\n",
       "      <td>0</td>\n",
       "      <td>0</td>\n",
       "    </tr>\n",
       "    <tr>\n",
       "      <th>4231</th>\n",
       "      <td>Tetragon Financial Group (OTCPK:TGONF) 2022 An...</td>\n",
       "      <td>2023-03-06</td>\n",
       "      <td>OTCPK</td>\n",
       "      <td>TGONF</td>\n",
       "      <td>0</td>\n",
       "      <td>0</td>\n",
       "      <td>0</td>\n",
       "      <td>0</td>\n",
       "      <td>0</td>\n",
       "      <td>0</td>\n",
       "      <td>0</td>\n",
       "      <td>0</td>\n",
       "      <td>0</td>\n",
       "      <td>0</td>\n",
       "    </tr>\n",
       "  </tbody>\n",
       "</table>\n",
       "<p>96 rows × 14 columns</p>\n",
       "</div>"
      ],
      "text/plain": [
       "                                                   tagged       date   stock  \\\n",
       "134639  Clean Coal Technologies Inc. (OTCQB:CCTC) Shar... 2013-03-27   OTCQB   \n",
       "68827   Vedanta Resources Plc (OTCPK:VDNRF) F1Q14 Prod... 2013-07-31   OTCPK   \n",
       "19647   TETRAGON FINANCIAL (OTCPK:TGONF) 2013 Investor... 2013-08-11   OTCPK   \n",
       "27444   Billabong International Ltd (OTCPK:BLLAF) F2Q2... 2014-02-20   OTCPK   \n",
       "75710   ERF Wireless, Inc. (OTC:ERFB) Shareholder Conf... 2014-08-28     OTC   \n",
       "...                                                   ...        ...     ...   \n",
       "50918   Stolt-Nielsen Limited (OTCPK:SOIEF) Q2 2022 Ea... 2022-06-30   OTCPK   \n",
       "67713   Copper Mountain Mining Corporation. (CPPMF) Q2... 2022-07-25  noInfo   \n",
       "12476   HTG Molecular Diagnostics, Inc. (NASDAQ:HTGM) ... 2022-08-11  NASDAQ   \n",
       "106033  Cengage Learning Holdings II, Inc. (OTC:CNGO) ... 2022-08-13     OTC   \n",
       "4231    Tetragon Financial Group (OTCPK:TGONF) 2022 An... 2023-03-06   OTCPK   \n",
       "\n",
       "         tick  delisted  acquisitions  bancrupt  changed  spinoff  ect  \\\n",
       "134639   CCTC         0             0         0        0        0    0   \n",
       "68827   VDNRF         0             0         0        0        0    0   \n",
       "19647   TGONF         0             0         0        0        0    0   \n",
       "27444   BLLAF         0             0         0        0        0    0   \n",
       "75710    ERFB         0             0         0        0        0    0   \n",
       "...       ...       ...           ...       ...      ...      ...  ...   \n",
       "50918   SOIEF         0             0         0        0        0    0   \n",
       "67713   CPPMF         0             0         0        0        0    0   \n",
       "12476    HTGM         0             0         0        0        0    0   \n",
       "106033   CNGO         0             0         0        0        0    0   \n",
       "4231    TGONF         0             0         0        0        0    0   \n",
       "\n",
       "        nasdaq  nyse  otc  edgar  \n",
       "134639       0     0    0      0  \n",
       "68827        0     0    0      0  \n",
       "19647        0     0    0      0  \n",
       "27444        0     0    0      0  \n",
       "75710        0     0    0      0  \n",
       "...        ...   ...  ...    ...  \n",
       "50918        0     0    0      0  \n",
       "67713        0     0    0      0  \n",
       "12476        0     0    0      0  \n",
       "106033       0     0    0      0  \n",
       "4231         0     0    0      0  \n",
       "\n",
       "[96 rows x 14 columns]"
      ]
     },
     "execution_count": 26,
     "metadata": {},
     "output_type": "execute_result"
    }
   ],
   "source": [
    "(working\n",
    " .query(\" delisted == 0 and acquisitions == 0 and bancrupt == 0 and changed == 0 and spinoff == 0 and ect == 0 and nasdaq == 0 and nyse == 0 and otc == 0 and edgar ==0\") \n",
    " )"
   ]
  },
  {
   "cell_type": "code",
   "execution_count": 27,
   "metadata": {},
   "outputs": [
    {
     "name": "stdout",
     "output_type": "stream",
     "text": [
      "[(0, 'tagged'), (1, 'date'), (2, 'stock'), (3, 'tick'), (4, 'delisted'), (5, 'acquisitions'), (6, 'bancrupt'), (7, 'changed'), (8, 'spinoff'), (9, 'ect'), (10, 'nasdaq'), (11, 'nyse'), (12, 'otc'), (13, 'edgar')]\n"
     ]
    }
   ],
   "source": [
    "print([(i, c) for i, c in enumerate(working.columns)])"
   ]
  },
  {
   "cell_type": "code",
   "execution_count": 28,
   "metadata": {},
   "outputs": [],
   "source": [
    "missing = working[~working[['delisted', 'acquisitions', 'bancrupt', 'changed', 'spinoff', 'nasdaq', 'nyse', 'otc', 'edgar']].any(axis=1)]['tick'].value_counts().reset_index()\n",
    "missing['above10'] = missing['count'].apply(lambda x: 1 if x >=10 else 0)"
   ]
  },
  {
   "cell_type": "code",
   "execution_count": 29,
   "metadata": {},
   "outputs": [],
   "source": [
    "# filter ticks have less 10 earnings call transcripts\n",
    "drop_ticks = (missing\n",
    ".query(\"above10 == 0\")\n",
    ")\n",
    "drop_ticks_list = drop_ticks['tick'].to_list()"
   ]
  },
  {
   "cell_type": "code",
   "execution_count": null,
   "metadata": {},
   "outputs": [],
   "source": [
    "# filter ticks need more info. They have trasncripts more than 10\n",
    "more_info_need_ticks = missing[missing['above10'] == 1]"
   ]
  },
  {
   "cell_type": "code",
   "execution_count": null,
   "metadata": {},
   "outputs": [],
   "source": [
    "# filter those from the working dataset\n",
    "working_count = working[working['tick'].isin(more_info_need_ticks['tick'].values)][['tagged','stock', 'tick']].groupby('tick').agg('count').reset_index()#.first().reset_index()#.to_csv('D:/Data/more_info_need_ticks.csv', index=False)\n",
    "# create ticks first occurrance and number of records\n",
    "working_first = working[working['tick'].isin(more_info_need_ticks['tick'].values)][['tagged','stock', 'tick']].groupby('tick').first().reset_index()\n",
    "working_df = working_first.merge(working_count, on='tick', how='left')"
   ]
  },
  {
   "cell_type": "code",
   "execution_count": 31,
   "metadata": {},
   "outputs": [
    {
     "data": {
      "text/plain": [
       "-329"
      ]
     },
     "execution_count": 31,
     "metadata": {},
     "output_type": "execute_result"
    }
   ],
   "source": [
    "#\n",
    "aggregated2 = (aggregated\n",
    " .query(\"tick not in @drop_ticks_list \") # 329 rows will be dropped\n",
    " )\n",
    "aggregated2.shape[0] - aggregated.shape[0]"
   ]
  },
  {
   "cell_type": "code",
   "execution_count": 33,
   "metadata": {},
   "outputs": [],
   "source": [
    "more_info_need_ticks = pd.read_csv(\"D:/Data/more_info_need_ticks.csv\")"
   ]
  },
  {
   "cell_type": "code",
   "execution_count": 45,
   "metadata": {},
   "outputs": [],
   "source": [
    "# create quarter period useing datetime column\n",
    "quarters = pd.to_datetime(aggregated2.loc[:,'date']).dt.to_period('Q').astype(str)\n",
    "# attach to the dataset\n",
    "aggregated2.loc[:,'Q'] = quarters"
   ]
  },
  {
   "cell_type": "code",
   "execution_count": 47,
   "metadata": {},
   "outputs": [],
   "source": [
    "aggregated2 = aggregated2.drop('ect', axis=1) # drop ect clumn since not know the source from"
   ]
  },
  {
   "cell_type": "code",
   "execution_count": 48,
   "metadata": {},
   "outputs": [
    {
     "data": {
      "text/html": [
       "<div>\n",
       "<style scoped>\n",
       "    .dataframe tbody tr th:only-of-type {\n",
       "        vertical-align: middle;\n",
       "    }\n",
       "\n",
       "    .dataframe tbody tr th {\n",
       "        vertical-align: top;\n",
       "    }\n",
       "\n",
       "    .dataframe thead th {\n",
       "        text-align: right;\n",
       "    }\n",
       "</style>\n",
       "<table border=\"1\" class=\"dataframe\">\n",
       "  <thead>\n",
       "    <tr style=\"text-align: right;\">\n",
       "      <th></th>\n",
       "      <th>id</th>\n",
       "      <th>url</th>\n",
       "      <th>file_from</th>\n",
       "      <th>tagged</th>\n",
       "      <th>transcript</th>\n",
       "      <th>clean</th>\n",
       "      <th>date</th>\n",
       "      <th>stock</th>\n",
       "      <th>tick</th>\n",
       "      <th>meeting_date</th>\n",
       "      <th>...</th>\n",
       "      <th>delisted</th>\n",
       "      <th>acquisitions</th>\n",
       "      <th>bancrupt</th>\n",
       "      <th>changed</th>\n",
       "      <th>spinoff</th>\n",
       "      <th>nasdaq</th>\n",
       "      <th>nyse</th>\n",
       "      <th>otc</th>\n",
       "      <th>edgar</th>\n",
       "      <th>Q</th>\n",
       "    </tr>\n",
       "  </thead>\n",
       "  <tbody>\n",
       "    <tr>\n",
       "      <th>113946</th>\n",
       "      <td>1546</td>\n",
       "      <td>https://seekingalpha.com/article/930171-dover-...</td>\n",
       "      <td>0175</td>\n",
       "      <td>Dover Corporation (NYSE:DOV) Q3 2012 Earnings ...</td>\n",
       "      <td>[Dover Corporation (NYSE:DOV) Q3 2012 Earnings...</td>\n",
       "      <td>[corporation, cerepak, financial, investor, an...</td>\n",
       "      <td>2012-10-17</td>\n",
       "      <td>NYSE</td>\n",
       "      <td>DOV</td>\n",
       "      <td>2012-10-17</td>\n",
       "      <td>...</td>\n",
       "      <td>0</td>\n",
       "      <td>0</td>\n",
       "      <td>0</td>\n",
       "      <td>0</td>\n",
       "      <td>1</td>\n",
       "      <td>1</td>\n",
       "      <td>1</td>\n",
       "      <td>0</td>\n",
       "      <td>1</td>\n",
       "      <td>2012Q4</td>\n",
       "    </tr>\n",
       "    <tr>\n",
       "      <th>113952</th>\n",
       "      <td>1554</td>\n",
       "      <td>https://seekingalpha.com/article/929901-hallib...</td>\n",
       "      <td>0175</td>\n",
       "      <td>Halliburton (NYSE:HAL) Q3 2012 Earnings Call O...</td>\n",
       "      <td>[Halliburton (NYSE:HAL) Q3 2012 Earnings Call ...</td>\n",
       "      <td>[halliburton, director, investor, financial, c...</td>\n",
       "      <td>2012-10-17</td>\n",
       "      <td>NYSE</td>\n",
       "      <td>HAL</td>\n",
       "      <td>2012-10-17</td>\n",
       "      <td>...</td>\n",
       "      <td>0</td>\n",
       "      <td>0</td>\n",
       "      <td>0</td>\n",
       "      <td>0</td>\n",
       "      <td>0</td>\n",
       "      <td>1</td>\n",
       "      <td>1</td>\n",
       "      <td>0</td>\n",
       "      <td>1</td>\n",
       "      <td>2012Q4</td>\n",
       "    </tr>\n",
       "    <tr>\n",
       "      <th>113951</th>\n",
       "      <td>1553</td>\n",
       "      <td>https://seekingalpha.com/article/929911-csx-ma...</td>\n",
       "      <td>0175</td>\n",
       "      <td>CSX (NASDAQ:CSX) Q3 2012 Earnings Call October...</td>\n",
       "      <td>[CSX (NASDAQ:CSX) Q3 2012 Earnings Call Octobe...</td>\n",
       "      <td>[investor, committee, marketing, operating, fi...</td>\n",
       "      <td>2012-10-17</td>\n",
       "      <td>NASDAQ</td>\n",
       "      <td>CSX</td>\n",
       "      <td>2012-10-17</td>\n",
       "      <td>...</td>\n",
       "      <td>0</td>\n",
       "      <td>0</td>\n",
       "      <td>0</td>\n",
       "      <td>0</td>\n",
       "      <td>0</td>\n",
       "      <td>1</td>\n",
       "      <td>1</td>\n",
       "      <td>0</td>\n",
       "      <td>1</td>\n",
       "      <td>2012Q4</td>\n",
       "    </tr>\n",
       "    <tr>\n",
       "      <th>113940</th>\n",
       "      <td>1540</td>\n",
       "      <td>https://seekingalpha.com/article/930361-fulton...</td>\n",
       "      <td>0175</td>\n",
       "      <td>Fulton Financial (NASDAQ:FULT) Q3 2012 Earning...</td>\n",
       "      <td>[Fulton Financial (NASDAQ:FULT) Q3 2012 Earnin...</td>\n",
       "      <td>[financial, fult, wakeley, committee, officio,...</td>\n",
       "      <td>2012-10-17</td>\n",
       "      <td>NASDAQ</td>\n",
       "      <td>FULT</td>\n",
       "      <td>2012-10-17</td>\n",
       "      <td>...</td>\n",
       "      <td>0</td>\n",
       "      <td>0</td>\n",
       "      <td>0</td>\n",
       "      <td>0</td>\n",
       "      <td>0</td>\n",
       "      <td>1</td>\n",
       "      <td>0</td>\n",
       "      <td>0</td>\n",
       "      <td>1</td>\n",
       "      <td>2012Q4</td>\n",
       "    </tr>\n",
       "    <tr>\n",
       "      <th>117620</th>\n",
       "      <td>6876</td>\n",
       "      <td>https://seekingalpha.com/article/931171-nves-c...</td>\n",
       "      <td>0175</td>\n",
       "      <td>NVE Corporation (NASDAQ:NVEC) F2Q13 Earnings C...</td>\n",
       "      <td>[NVE Corporation (NASDAQ:NVEC) F2Q13 Earnings ...</td>\n",
       "      <td>[nve, corporation, nvec, reynders, financial, ...</td>\n",
       "      <td>2012-10-17</td>\n",
       "      <td>NASDAQ</td>\n",
       "      <td>NVEC</td>\n",
       "      <td>2012-10-17</td>\n",
       "      <td>...</td>\n",
       "      <td>0</td>\n",
       "      <td>0</td>\n",
       "      <td>0</td>\n",
       "      <td>0</td>\n",
       "      <td>0</td>\n",
       "      <td>1</td>\n",
       "      <td>0</td>\n",
       "      <td>0</td>\n",
       "      <td>1</td>\n",
       "      <td>2012Q4</td>\n",
       "    </tr>\n",
       "    <tr>\n",
       "      <th>...</th>\n",
       "      <td>...</td>\n",
       "      <td>...</td>\n",
       "      <td>...</td>\n",
       "      <td>...</td>\n",
       "      <td>...</td>\n",
       "      <td>...</td>\n",
       "      <td>...</td>\n",
       "      <td>...</td>\n",
       "      <td>...</td>\n",
       "      <td>...</td>\n",
       "      <td>...</td>\n",
       "      <td>...</td>\n",
       "      <td>...</td>\n",
       "      <td>...</td>\n",
       "      <td>...</td>\n",
       "      <td>...</td>\n",
       "      <td>...</td>\n",
       "      <td>...</td>\n",
       "      <td>...</td>\n",
       "      <td>...</td>\n",
       "      <td>...</td>\n",
       "    </tr>\n",
       "    <tr>\n",
       "      <th>5569</th>\n",
       "      <td>2954</td>\n",
       "      <td>https://seekingalpha.com/article/4610165-smart...</td>\n",
       "      <td>0015</td>\n",
       "      <td>Smartsheet Inc. (NYSE:SMAR) Q1 2024 Earnings C...</td>\n",
       "      <td>[Smartsheet Inc. (NYSE:SMAR) Q1 2024 Earnings ...</td>\n",
       "      <td>[smartsheet, investor, godbole, financial, tru...</td>\n",
       "      <td>2023-06-08</td>\n",
       "      <td>NYSE</td>\n",
       "      <td>SMAR</td>\n",
       "      <td>2023-06-07</td>\n",
       "      <td>...</td>\n",
       "      <td>0</td>\n",
       "      <td>0</td>\n",
       "      <td>0</td>\n",
       "      <td>0</td>\n",
       "      <td>0</td>\n",
       "      <td>1</td>\n",
       "      <td>0</td>\n",
       "      <td>0</td>\n",
       "      <td>1</td>\n",
       "      <td>2023Q2</td>\n",
       "    </tr>\n",
       "    <tr>\n",
       "      <th>5565</th>\n",
       "      <td>2950</td>\n",
       "      <td>https://seekingalpha.com/article/4610226-mongo...</td>\n",
       "      <td>0015</td>\n",
       "      <td>MongoDB, Inc. (NASDAQ:MDB) Annual William Blai...</td>\n",
       "      <td>[MongoDB, Inc. (NASDAQ:MDB) Annual William Bla...</td>\n",
       "      <td>[mongodb, research, analyst, tanjga, svp, mong...</td>\n",
       "      <td>2023-06-09</td>\n",
       "      <td>NASDAQ</td>\n",
       "      <td>MDB</td>\n",
       "      <td>2023-06-08</td>\n",
       "      <td>...</td>\n",
       "      <td>0</td>\n",
       "      <td>0</td>\n",
       "      <td>0</td>\n",
       "      <td>0</td>\n",
       "      <td>0</td>\n",
       "      <td>1</td>\n",
       "      <td>0</td>\n",
       "      <td>0</td>\n",
       "      <td>1</td>\n",
       "      <td>2023Q2</td>\n",
       "    </tr>\n",
       "    <tr>\n",
       "      <th>5566</th>\n",
       "      <td>2951</td>\n",
       "      <td>https://seekingalpha.com/article/4610193-tuya-...</td>\n",
       "      <td>0015</td>\n",
       "      <td>Tuya, Inc. (NYSE:TUYA) Q1 2023 Earnings Confer...</td>\n",
       "      <td>[Tuya, Inc. (NYSE:TUYA) Q1 2023 Earnings Confe...</td>\n",
       "      <td>[director, svp, director, investor, director, ...</td>\n",
       "      <td>2023-06-09</td>\n",
       "      <td>NYSE</td>\n",
       "      <td>TUYA</td>\n",
       "      <td>2023-06-07</td>\n",
       "      <td>...</td>\n",
       "      <td>0</td>\n",
       "      <td>0</td>\n",
       "      <td>0</td>\n",
       "      <td>0</td>\n",
       "      <td>0</td>\n",
       "      <td>1</td>\n",
       "      <td>0</td>\n",
       "      <td>0</td>\n",
       "      <td>1</td>\n",
       "      <td>2023Q2</td>\n",
       "    </tr>\n",
       "    <tr>\n",
       "      <th>5567</th>\n",
       "      <td>2952</td>\n",
       "      <td>https://seekingalpha.com/article/4610188-trans...</td>\n",
       "      <td>0015</td>\n",
       "      <td>Transcontinental Inc. (OTCPK:TCLAF) wQ2 2023 E...</td>\n",
       "      <td>[Transcontinental Inc. (OTCPK:TCLAF) wQ2 2023 ...</td>\n",
       "      <td>[otcpk, tclaf, director, marcoux, lecavalier, ...</td>\n",
       "      <td>2023-06-09</td>\n",
       "      <td>OTCPK</td>\n",
       "      <td>TCLAF</td>\n",
       "      <td>2023-06-08</td>\n",
       "      <td>...</td>\n",
       "      <td>0</td>\n",
       "      <td>0</td>\n",
       "      <td>0</td>\n",
       "      <td>0</td>\n",
       "      <td>0</td>\n",
       "      <td>0</td>\n",
       "      <td>0</td>\n",
       "      <td>1</td>\n",
       "      <td>0</td>\n",
       "      <td>2023Q2</td>\n",
       "    </tr>\n",
       "    <tr>\n",
       "      <th>5564</th>\n",
       "      <td>2949</td>\n",
       "      <td>https://seekingalpha.com/article/4610272-coca-...</td>\n",
       "      <td>0015</td>\n",
       "      <td>The Coca-Cola Company (NYSE:KO) Annual Deutsch...</td>\n",
       "      <td>[The Coca-Cola Company (NYSE:KO) Annual Deutsc...</td>\n",
       "      <td>[deutsche, consumer, financial, deutsche, fina...</td>\n",
       "      <td>2023-06-09</td>\n",
       "      <td>NYSE</td>\n",
       "      <td>KO</td>\n",
       "      <td>2023-06-08</td>\n",
       "      <td>...</td>\n",
       "      <td>0</td>\n",
       "      <td>0</td>\n",
       "      <td>0</td>\n",
       "      <td>0</td>\n",
       "      <td>0</td>\n",
       "      <td>1</td>\n",
       "      <td>1</td>\n",
       "      <td>0</td>\n",
       "      <td>1</td>\n",
       "      <td>2023Q2</td>\n",
       "    </tr>\n",
       "  </tbody>\n",
       "</table>\n",
       "<p>136193 rows × 27 columns</p>\n",
       "</div>"
      ],
      "text/plain": [
       "          id                                                url file_from  \\\n",
       "113946  1546  https://seekingalpha.com/article/930171-dover-...      0175   \n",
       "113952  1554  https://seekingalpha.com/article/929901-hallib...      0175   \n",
       "113951  1553  https://seekingalpha.com/article/929911-csx-ma...      0175   \n",
       "113940  1540  https://seekingalpha.com/article/930361-fulton...      0175   \n",
       "117620  6876  https://seekingalpha.com/article/931171-nves-c...      0175   \n",
       "...      ...                                                ...       ...   \n",
       "5569    2954  https://seekingalpha.com/article/4610165-smart...      0015   \n",
       "5565    2950  https://seekingalpha.com/article/4610226-mongo...      0015   \n",
       "5566    2951  https://seekingalpha.com/article/4610193-tuya-...      0015   \n",
       "5567    2952  https://seekingalpha.com/article/4610188-trans...      0015   \n",
       "5564    2949  https://seekingalpha.com/article/4610272-coca-...      0015   \n",
       "\n",
       "                                                   tagged  \\\n",
       "113946  Dover Corporation (NYSE:DOV) Q3 2012 Earnings ...   \n",
       "113952  Halliburton (NYSE:HAL) Q3 2012 Earnings Call O...   \n",
       "113951  CSX (NASDAQ:CSX) Q3 2012 Earnings Call October...   \n",
       "113940  Fulton Financial (NASDAQ:FULT) Q3 2012 Earning...   \n",
       "117620  NVE Corporation (NASDAQ:NVEC) F2Q13 Earnings C...   \n",
       "...                                                   ...   \n",
       "5569    Smartsheet Inc. (NYSE:SMAR) Q1 2024 Earnings C...   \n",
       "5565    MongoDB, Inc. (NASDAQ:MDB) Annual William Blai...   \n",
       "5566    Tuya, Inc. (NYSE:TUYA) Q1 2023 Earnings Confer...   \n",
       "5567    Transcontinental Inc. (OTCPK:TCLAF) wQ2 2023 E...   \n",
       "5564    The Coca-Cola Company (NYSE:KO) Annual Deutsch...   \n",
       "\n",
       "                                               transcript  \\\n",
       "113946  [Dover Corporation (NYSE:DOV) Q3 2012 Earnings...   \n",
       "113952  [Halliburton (NYSE:HAL) Q3 2012 Earnings Call ...   \n",
       "113951  [CSX (NASDAQ:CSX) Q3 2012 Earnings Call Octobe...   \n",
       "113940  [Fulton Financial (NASDAQ:FULT) Q3 2012 Earnin...   \n",
       "117620  [NVE Corporation (NASDAQ:NVEC) F2Q13 Earnings ...   \n",
       "...                                                   ...   \n",
       "5569    [Smartsheet Inc. (NYSE:SMAR) Q1 2024 Earnings ...   \n",
       "5565    [MongoDB, Inc. (NASDAQ:MDB) Annual William Bla...   \n",
       "5566    [Tuya, Inc. (NYSE:TUYA) Q1 2023 Earnings Confe...   \n",
       "5567    [Transcontinental Inc. (OTCPK:TCLAF) wQ2 2023 ...   \n",
       "5564    [The Coca-Cola Company (NYSE:KO) Annual Deutsc...   \n",
       "\n",
       "                                                    clean       date   stock  \\\n",
       "113946  [corporation, cerepak, financial, investor, an... 2012-10-17    NYSE   \n",
       "113952  [halliburton, director, investor, financial, c... 2012-10-17    NYSE   \n",
       "113951  [investor, committee, marketing, operating, fi... 2012-10-17  NASDAQ   \n",
       "113940  [financial, fult, wakeley, committee, officio,... 2012-10-17  NASDAQ   \n",
       "117620  [nve, corporation, nvec, reynders, financial, ... 2012-10-17  NASDAQ   \n",
       "...                                                   ...        ...     ...   \n",
       "5569    [smartsheet, investor, godbole, financial, tru... 2023-06-08    NYSE   \n",
       "5565    [mongodb, research, analyst, tanjga, svp, mong... 2023-06-09  NASDAQ   \n",
       "5566    [director, svp, director, investor, director, ... 2023-06-09    NYSE   \n",
       "5567    [otcpk, tclaf, director, marcoux, lecavalier, ... 2023-06-09   OTCPK   \n",
       "5564    [deutsche, consumer, financial, deutsche, fina... 2023-06-09    NYSE   \n",
       "\n",
       "         tick meeting_date  ...  delisted  acquisitions  bancrupt  changed  \\\n",
       "113946    DOV   2012-10-17  ...         0             0         0        0   \n",
       "113952    HAL   2012-10-17  ...         0             0         0        0   \n",
       "113951    CSX   2012-10-17  ...         0             0         0        0   \n",
       "113940   FULT   2012-10-17  ...         0             0         0        0   \n",
       "117620   NVEC   2012-10-17  ...         0             0         0        0   \n",
       "...       ...          ...  ...       ...           ...       ...      ...   \n",
       "5569     SMAR   2023-06-07  ...         0             0         0        0   \n",
       "5565      MDB   2023-06-08  ...         0             0         0        0   \n",
       "5566     TUYA   2023-06-07  ...         0             0         0        0   \n",
       "5567    TCLAF   2023-06-08  ...         0             0         0        0   \n",
       "5564       KO   2023-06-08  ...         0             0         0        0   \n",
       "\n",
       "        spinoff  nasdaq nyse  otc  edgar       Q  \n",
       "113946        1       1    1    0      1  2012Q4  \n",
       "113952        0       1    1    0      1  2012Q4  \n",
       "113951        0       1    1    0      1  2012Q4  \n",
       "113940        0       1    0    0      1  2012Q4  \n",
       "117620        0       1    0    0      1  2012Q4  \n",
       "...         ...     ...  ...  ...    ...     ...  \n",
       "5569          0       1    0    0      1  2023Q2  \n",
       "5565          0       1    0    0      1  2023Q2  \n",
       "5566          0       1    0    0      1  2023Q2  \n",
       "5567          0       0    0    1      0  2023Q2  \n",
       "5564          0       1    1    0      1  2023Q2  \n",
       "\n",
       "[136193 rows x 27 columns]"
      ]
     },
     "execution_count": 48,
     "metadata": {},
     "output_type": "execute_result"
    }
   ],
   "source": [
    "aggregated2"
   ]
  },
  {
   "cell_type": "code",
   "execution_count": 49,
   "metadata": {},
   "outputs": [
    {
     "data": {
      "text/html": [
       "<div>\n",
       "<style scoped>\n",
       "    .dataframe tbody tr th:only-of-type {\n",
       "        vertical-align: middle;\n",
       "    }\n",
       "\n",
       "    .dataframe tbody tr th {\n",
       "        vertical-align: top;\n",
       "    }\n",
       "\n",
       "    .dataframe thead th {\n",
       "        text-align: right;\n",
       "    }\n",
       "</style>\n",
       "<table border=\"1\" class=\"dataframe\">\n",
       "  <thead>\n",
       "    <tr style=\"text-align: right;\">\n",
       "      <th></th>\n",
       "      <th>tick</th>\n",
       "      <th>tagged</th>\n",
       "      <th>stock</th>\n",
       "      <th>Country</th>\n",
       "      <th>Industry</th>\n",
       "      <th>isOperating</th>\n",
       "      <th>ddate</th>\n",
       "      <th>Source</th>\n",
       "      <th>Others</th>\n",
       "      <th>Unnamed: 9</th>\n",
       "    </tr>\n",
       "  </thead>\n",
       "  <tbody>\n",
       "    <tr>\n",
       "      <th>0</th>\n",
       "      <td>AWLCF</td>\n",
       "      <td>Awilco Drilling PLC (OTC:AWLCF) Q1 2016 Earnin...</td>\n",
       "      <td>OTC</td>\n",
       "      <td>UK</td>\n",
       "      <td>Oil &amp; Gas Drilling</td>\n",
       "      <td>Delisted</td>\n",
       "      <td>12/15/2022</td>\n",
       "      <td>https://finance.yahoo.com/quote/AWLCF/profile</td>\n",
       "      <td>https://naxs.se/en/awilco-drilling-plc-change-...</td>\n",
       "      <td>NaN</td>\n",
       "    </tr>\n",
       "    <tr>\n",
       "      <th>1</th>\n",
       "      <td>BPMUF</td>\n",
       "      <td>Basilea Pharmaceutica AG (OTC:BPMUF) H1 2017 E...</td>\n",
       "      <td>OTC</td>\n",
       "      <td>CHE</td>\n",
       "      <td>Biotechnology</td>\n",
       "      <td>Delayed</td>\n",
       "      <td>NaN</td>\n",
       "      <td>https://finance.yahoo.com/quote/BPMUF/</td>\n",
       "      <td>NaN</td>\n",
       "      <td>NaN</td>\n",
       "    </tr>\n",
       "    <tr>\n",
       "      <th>2</th>\n",
       "      <td>BSYBF</td>\n",
       "      <td>British Sky Broadcasting Group (OTCPK:BSYBF) Q...</td>\n",
       "      <td>OTCPK</td>\n",
       "      <td>UK</td>\n",
       "      <td>Communications</td>\n",
       "      <td>Delisted</td>\n",
       "      <td>11/7/2018</td>\n",
       "      <td>https://en.wikipedia.org/wiki/Sky_Group</td>\n",
       "      <td>NaN</td>\n",
       "      <td>NaN</td>\n",
       "    </tr>\n",
       "    <tr>\n",
       "      <th>3</th>\n",
       "      <td>CCIH</td>\n",
       "      <td>ChinaCache International Holdings Ltd. (CCIH) ...</td>\n",
       "      <td>noInfo</td>\n",
       "      <td>CHN</td>\n",
       "      <td>Internet Content</td>\n",
       "      <td>Delisted</td>\n",
       "      <td>9/10/2019</td>\n",
       "      <td>https://www.globenewswire.com/news-release/201...</td>\n",
       "      <td>NaN</td>\n",
       "      <td>NaN</td>\n",
       "    </tr>\n",
       "    <tr>\n",
       "      <th>4</th>\n",
       "      <td>CNGO</td>\n",
       "      <td>Cengage Learning Holdings II Inc. (OTC:CNGO) Q...</td>\n",
       "      <td>OTC</td>\n",
       "      <td>USA</td>\n",
       "      <td>NaN</td>\n",
       "      <td>NaN</td>\n",
       "      <td>NaN</td>\n",
       "      <td>NaN</td>\n",
       "      <td>NaN</td>\n",
       "      <td>NaN</td>\n",
       "    </tr>\n",
       "    <tr>\n",
       "      <th>5</th>\n",
       "      <td>CPPMF</td>\n",
       "      <td>Copper Mountain Mining Corporation. (CPPMF) Q1...</td>\n",
       "      <td>noInfo</td>\n",
       "      <td>CAN</td>\n",
       "      <td>NaN</td>\n",
       "      <td>Acquired</td>\n",
       "      <td>6/20/2023</td>\n",
       "      <td>link</td>\n",
       "      <td>NaN</td>\n",
       "      <td>NaN</td>\n",
       "    </tr>\n",
       "    <tr>\n",
       "      <th>6</th>\n",
       "      <td>CSUWF</td>\n",
       "      <td>Enercare, Inc. (OTCPK:CSUWF) Q3 2014 Earnings ...</td>\n",
       "      <td>OTCPK</td>\n",
       "      <td>CAN</td>\n",
       "      <td>NaN</td>\n",
       "      <td>Acquired</td>\n",
       "      <td>10/16/2018</td>\n",
       "      <td>link</td>\n",
       "      <td>NaN</td>\n",
       "      <td>NaN</td>\n",
       "    </tr>\n",
       "    <tr>\n",
       "      <th>7</th>\n",
       "      <td>EFLVF</td>\n",
       "      <td>Electrovaya Inc. (EFLVF) Q2 2015 Earnings Conf...</td>\n",
       "      <td>noInfo</td>\n",
       "      <td>CAN</td>\n",
       "      <td>NaN</td>\n",
       "      <td>OTCQB: EFLVD or ELVA</td>\n",
       "      <td>7/6/2023</td>\n",
       "      <td>https://electrovaya.com/press/electrovaya-anno...</td>\n",
       "      <td>NaN</td>\n",
       "      <td>NaN</td>\n",
       "    </tr>\n",
       "    <tr>\n",
       "      <th>8</th>\n",
       "      <td>EORBF</td>\n",
       "      <td>Orbite Aluminae Inc. (OTC:EORBF) Q2 2014 Earni...</td>\n",
       "      <td>OTC</td>\n",
       "      <td>CAN</td>\n",
       "      <td>NaN</td>\n",
       "      <td>Acquired</td>\n",
       "      <td>4/6/2020</td>\n",
       "      <td>https://www.marketscreener.com/quote/stock/ORB...</td>\n",
       "      <td>NaN</td>\n",
       "      <td>NaN</td>\n",
       "    </tr>\n",
       "    <tr>\n",
       "      <th>9</th>\n",
       "      <td>FRRVF</td>\n",
       "      <td>Ferrovial SA (OTCPK:FRRVF) Q1 2017 Earnings Co...</td>\n",
       "      <td>OTCPK</td>\n",
       "      <td>NED</td>\n",
       "      <td>Transportation</td>\n",
       "      <td>NaN</td>\n",
       "      <td>NaN</td>\n",
       "      <td>NaN</td>\n",
       "      <td>NaN</td>\n",
       "      <td>NaN</td>\n",
       "    </tr>\n",
       "    <tr>\n",
       "      <th>10</th>\n",
       "      <td>HTGM</td>\n",
       "      <td>HTG Molecular Diagnostics Inc. (NASDAQ:HTGM) Q...</td>\n",
       "      <td>NASDAQ</td>\n",
       "      <td>USA</td>\n",
       "      <td>Biotechnology</td>\n",
       "      <td>Delisted</td>\n",
       "      <td>6/6/2023</td>\n",
       "      <td>link</td>\n",
       "      <td>NaN</td>\n",
       "      <td>NaN</td>\n",
       "    </tr>\n",
       "    <tr>\n",
       "      <th>11</th>\n",
       "      <td>IMBI</td>\n",
       "      <td>iMedia Brands, Inc. (IMBI) Q2 2019 Earnings Co...</td>\n",
       "      <td>noInfo</td>\n",
       "      <td>USA</td>\n",
       "      <td>NaN</td>\n",
       "      <td>Delisted</td>\n",
       "      <td>6/29/2023</td>\n",
       "      <td>link</td>\n",
       "      <td>NaN</td>\n",
       "      <td>NaN</td>\n",
       "    </tr>\n",
       "    <tr>\n",
       "      <th>12</th>\n",
       "      <td>INVVY</td>\n",
       "      <td>Indivior PLC (OTCPK:INVVY) Q4 2016 Results Ear...</td>\n",
       "      <td>OTCPK</td>\n",
       "      <td>NaN</td>\n",
       "      <td>Pharma</td>\n",
       "      <td>Delisted</td>\n",
       "      <td>6/12/2023</td>\n",
       "      <td>https://www.indivior.com/en/investors/sharehol...</td>\n",
       "      <td>NaN</td>\n",
       "      <td>NaN</td>\n",
       "    </tr>\n",
       "    <tr>\n",
       "      <th>13</th>\n",
       "      <td>JCOUF</td>\n",
       "      <td>The Jean Coutu Group PJC (OTCPK:JCOUF) Q1 2015...</td>\n",
       "      <td>OTCPK</td>\n",
       "      <td>NaN</td>\n",
       "      <td>Pharma</td>\n",
       "      <td>Delisted</td>\n",
       "      <td>5/11/2018</td>\n",
       "      <td>https://www.sec.gov/Archives/edgar/data/130926...</td>\n",
       "      <td>NaN</td>\n",
       "      <td>NaN</td>\n",
       "    </tr>\n",
       "    <tr>\n",
       "      <th>14</th>\n",
       "      <td>LDBKF</td>\n",
       "      <td>Ladbrokes Plc (OTCPK:LDBKF) Q2 2014 Earnings C...</td>\n",
       "      <td>OTCPK</td>\n",
       "      <td>NaN</td>\n",
       "      <td>NaN</td>\n",
       "      <td>Delisted</td>\n",
       "      <td>12/22/2017</td>\n",
       "      <td>https://www.reuters.com/article/idUSKBN1EG0MK/</td>\n",
       "      <td>LSE:ENT</td>\n",
       "      <td>NaN</td>\n",
       "    </tr>\n",
       "    <tr>\n",
       "      <th>15</th>\n",
       "      <td>LOCM</td>\n",
       "      <td>Local Corporation (OTC:LOCM) Q3 2012 Earnings ...</td>\n",
       "      <td>OTC</td>\n",
       "      <td>USA</td>\n",
       "      <td>Internet Content</td>\n",
       "      <td>NaN</td>\n",
       "      <td>6/23/2015</td>\n",
       "      <td>https://www.streetinsider.com/SEC+Filings/Form...</td>\n",
       "      <td>NaN</td>\n",
       "      <td>NaN</td>\n",
       "    </tr>\n",
       "    <tr>\n",
       "      <th>16</th>\n",
       "      <td>LUKOY</td>\n",
       "      <td>LUKOIL (OTC:LUKOY) Q3 2012 Earnings Call Novem...</td>\n",
       "      <td>OTC</td>\n",
       "      <td>RUS</td>\n",
       "      <td>Oil</td>\n",
       "      <td>Deslisted</td>\n",
       "      <td>5/4/2022</td>\n",
       "      <td>https://seekingalpha.com/article/4492891-trade...</td>\n",
       "      <td>NaN</td>\n",
       "      <td>NaN</td>\n",
       "    </tr>\n",
       "    <tr>\n",
       "      <th>17</th>\n",
       "      <td>OCINF</td>\n",
       "      <td>OCI N.V. (OTC:OCINF) Q3 2017 Trading Update Co...</td>\n",
       "      <td>OTC</td>\n",
       "      <td>KOR</td>\n",
       "      <td>Specialty Chemicals</td>\n",
       "      <td>NaN</td>\n",
       "      <td>NaN</td>\n",
       "      <td>https://www.globaldata.com/company-profile/oci...</td>\n",
       "      <td>NaN</td>\n",
       "      <td>NaN</td>\n",
       "    </tr>\n",
       "    <tr>\n",
       "      <th>18</th>\n",
       "      <td>OPESF</td>\n",
       "      <td>Opera Software Asa (OTC:OPESF) Q4 2014 Earning...</td>\n",
       "      <td>OTC</td>\n",
       "      <td>Norway</td>\n",
       "      <td>Software</td>\n",
       "      <td>NaN</td>\n",
       "      <td>NaN</td>\n",
       "      <td>NaN</td>\n",
       "      <td>NaN</td>\n",
       "      <td>NaN</td>\n",
       "    </tr>\n",
       "    <tr>\n",
       "      <th>19</th>\n",
       "      <td>RCKZF</td>\n",
       "      <td>Rocket Internet AG ORD (OTC:RCKZF) Q2 2016 Ear...</td>\n",
       "      <td>OTC</td>\n",
       "      <td>GER</td>\n",
       "      <td>Online Retailing</td>\n",
       "      <td>Delisted</td>\n",
       "      <td>9/1/2020</td>\n",
       "      <td>https://en.wikipedia.org/wiki/Rocket_Internet#...</td>\n",
       "      <td>NaN</td>\n",
       "      <td>NaN</td>\n",
       "    </tr>\n",
       "    <tr>\n",
       "      <th>20</th>\n",
       "      <td>SCOO</td>\n",
       "      <td>School Specialty Incorporated (OTC:SCOO) Q2 20...</td>\n",
       "      <td>OTC</td>\n",
       "      <td>USA</td>\n",
       "      <td>Specialty Retails</td>\n",
       "      <td>Delisted</td>\n",
       "      <td>9/15/2020</td>\n",
       "      <td>https://corporate.schoolspecialty.com/school-s...</td>\n",
       "      <td>NaN</td>\n",
       "      <td>NaN</td>\n",
       "    </tr>\n",
       "    <tr>\n",
       "      <th>21</th>\n",
       "      <td>SGAZF</td>\n",
       "      <td>Songa Offshore Se (OTC:SGAZF) Q42012 Earnings ...</td>\n",
       "      <td>OTC</td>\n",
       "      <td>Norway</td>\n",
       "      <td>Offshore Service</td>\n",
       "      <td>Acquired</td>\n",
       "      <td>8/17/2017</td>\n",
       "      <td>https://www.deepwater.com/news/detail?ID=13211</td>\n",
       "      <td>NYSE:RIG</td>\n",
       "      <td>NaN</td>\n",
       "    </tr>\n",
       "    <tr>\n",
       "      <th>22</th>\n",
       "      <td>SOIEF</td>\n",
       "      <td>Stolt-Nielsen Ltd. (OTCPK:SOIEF) Q4 2017 Earni...</td>\n",
       "      <td>OTCPK</td>\n",
       "      <td>UK</td>\n",
       "      <td>Marine Shipping</td>\n",
       "      <td>NaN</td>\n",
       "      <td>NaN</td>\n",
       "      <td>NaN</td>\n",
       "      <td>OSE:SNI</td>\n",
       "      <td>NaN</td>\n",
       "    </tr>\n",
       "    <tr>\n",
       "      <th>23</th>\n",
       "      <td>SRGA</td>\n",
       "      <td>Surgalign Holdings, Inc. (SRGA) Q4 2020 Earnin...</td>\n",
       "      <td>noInfo</td>\n",
       "      <td>USA</td>\n",
       "      <td>Medical Equipment</td>\n",
       "      <td>Delisted</td>\n",
       "      <td>7/3/2023</td>\n",
       "      <td>link</td>\n",
       "      <td>NYSE(AMEX):XTANT</td>\n",
       "      <td>formerly RTI Surgical Inc</td>\n",
       "    </tr>\n",
       "    <tr>\n",
       "      <th>24</th>\n",
       "      <td>SUPGF</td>\n",
       "      <td>Superior Gold, Inc. (OTCQX:SUPGF) Q2 2019 Resu...</td>\n",
       "      <td>OTCQX</td>\n",
       "      <td>CAN</td>\n",
       "      <td>NaN</td>\n",
       "      <td>Acquired</td>\n",
       "      <td>2/23/2023</td>\n",
       "      <td>https://www.prnewswire.com/news-releases/super...</td>\n",
       "      <td>ASX:CYL</td>\n",
       "      <td>NaN</td>\n",
       "    </tr>\n",
       "    <tr>\n",
       "      <th>25</th>\n",
       "      <td>TGONF</td>\n",
       "      <td>Tetragon Financials (OTCPK:TGONF) Q1 2013 Earn...</td>\n",
       "      <td>OTCPK</td>\n",
       "      <td>USA</td>\n",
       "      <td>NaN</td>\n",
       "      <td>NaN</td>\n",
       "      <td>NaN</td>\n",
       "      <td>NaN</td>\n",
       "      <td>NaN</td>\n",
       "      <td>NaN</td>\n",
       "    </tr>\n",
       "    <tr>\n",
       "      <th>26</th>\n",
       "      <td>TLGHF</td>\n",
       "      <td>Telenet Group Holding NV (OTC:TLGHF) Q4 2016 R...</td>\n",
       "      <td>OTC</td>\n",
       "      <td>BEL</td>\n",
       "      <td>Telecommunications</td>\n",
       "      <td>Acquired</td>\n",
       "      <td>10/16/2023</td>\n",
       "      <td>link</td>\n",
       "      <td>NASDAQ:LBTYA</td>\n",
       "      <td>NaN</td>\n",
       "    </tr>\n",
       "    <tr>\n",
       "      <th>27</th>\n",
       "      <td>TRSSF</td>\n",
       "      <td>TerrAscend Corp. (TRSSF) Q4 2019 Results Earni...</td>\n",
       "      <td>noInfo</td>\n",
       "      <td>CAN</td>\n",
       "      <td>Drug Manufacturers</td>\n",
       "      <td>Delisted</td>\n",
       "      <td>6/29/2023</td>\n",
       "      <td>https://ir.terrascend.com/news-events/press-re...</td>\n",
       "      <td>NaN</td>\n",
       "      <td>NaN</td>\n",
       "    </tr>\n",
       "    <tr>\n",
       "      <th>28</th>\n",
       "      <td>VDNRF</td>\n",
       "      <td>Vedanta Resources Plc (OTCPK:VDNRF) F4Q12 Earn...</td>\n",
       "      <td>OTCPK</td>\n",
       "      <td>India</td>\n",
       "      <td>NaN</td>\n",
       "      <td>Defunct</td>\n",
       "      <td>7/14/2018</td>\n",
       "      <td>https://seekingalpha.com/symbol/VDNRF</td>\n",
       "      <td>NaN</td>\n",
       "      <td>NaN</td>\n",
       "    </tr>\n",
       "  </tbody>\n",
       "</table>\n",
       "</div>"
      ],
      "text/plain": [
       "     tick                                             tagged   stock Country  \\\n",
       "0   AWLCF  Awilco Drilling PLC (OTC:AWLCF) Q1 2016 Earnin...     OTC      UK   \n",
       "1   BPMUF  Basilea Pharmaceutica AG (OTC:BPMUF) H1 2017 E...     OTC     CHE   \n",
       "2   BSYBF  British Sky Broadcasting Group (OTCPK:BSYBF) Q...   OTCPK      UK   \n",
       "3    CCIH  ChinaCache International Holdings Ltd. (CCIH) ...  noInfo     CHN   \n",
       "4    CNGO  Cengage Learning Holdings II Inc. (OTC:CNGO) Q...     OTC     USA   \n",
       "5   CPPMF  Copper Mountain Mining Corporation. (CPPMF) Q1...  noInfo     CAN   \n",
       "6   CSUWF  Enercare, Inc. (OTCPK:CSUWF) Q3 2014 Earnings ...   OTCPK     CAN   \n",
       "7   EFLVF  Electrovaya Inc. (EFLVF) Q2 2015 Earnings Conf...  noInfo     CAN   \n",
       "8   EORBF  Orbite Aluminae Inc. (OTC:EORBF) Q2 2014 Earni...     OTC     CAN   \n",
       "9   FRRVF  Ferrovial SA (OTCPK:FRRVF) Q1 2017 Earnings Co...   OTCPK     NED   \n",
       "10   HTGM  HTG Molecular Diagnostics Inc. (NASDAQ:HTGM) Q...  NASDAQ     USA   \n",
       "11   IMBI  iMedia Brands, Inc. (IMBI) Q2 2019 Earnings Co...  noInfo     USA   \n",
       "12  INVVY  Indivior PLC (OTCPK:INVVY) Q4 2016 Results Ear...   OTCPK     NaN   \n",
       "13  JCOUF  The Jean Coutu Group PJC (OTCPK:JCOUF) Q1 2015...   OTCPK     NaN   \n",
       "14  LDBKF  Ladbrokes Plc (OTCPK:LDBKF) Q2 2014 Earnings C...   OTCPK     NaN   \n",
       "15   LOCM  Local Corporation (OTC:LOCM) Q3 2012 Earnings ...     OTC     USA   \n",
       "16  LUKOY  LUKOIL (OTC:LUKOY) Q3 2012 Earnings Call Novem...     OTC     RUS   \n",
       "17  OCINF  OCI N.V. (OTC:OCINF) Q3 2017 Trading Update Co...     OTC     KOR   \n",
       "18  OPESF  Opera Software Asa (OTC:OPESF) Q4 2014 Earning...     OTC  Norway   \n",
       "19  RCKZF  Rocket Internet AG ORD (OTC:RCKZF) Q2 2016 Ear...     OTC     GER   \n",
       "20   SCOO  School Specialty Incorporated (OTC:SCOO) Q2 20...     OTC     USA   \n",
       "21  SGAZF  Songa Offshore Se (OTC:SGAZF) Q42012 Earnings ...     OTC  Norway   \n",
       "22  SOIEF  Stolt-Nielsen Ltd. (OTCPK:SOIEF) Q4 2017 Earni...   OTCPK      UK   \n",
       "23   SRGA  Surgalign Holdings, Inc. (SRGA) Q4 2020 Earnin...  noInfo     USA   \n",
       "24  SUPGF  Superior Gold, Inc. (OTCQX:SUPGF) Q2 2019 Resu...   OTCQX     CAN   \n",
       "25  TGONF  Tetragon Financials (OTCPK:TGONF) Q1 2013 Earn...   OTCPK     USA   \n",
       "26  TLGHF  Telenet Group Holding NV (OTC:TLGHF) Q4 2016 R...     OTC     BEL   \n",
       "27  TRSSF  TerrAscend Corp. (TRSSF) Q4 2019 Results Earni...  noInfo     CAN   \n",
       "28  VDNRF  Vedanta Resources Plc (OTCPK:VDNRF) F4Q12 Earn...   OTCPK   India   \n",
       "\n",
       "               Industry           isOperating       ddate  \\\n",
       "0    Oil & Gas Drilling              Delisted  12/15/2022   \n",
       "1         Biotechnology               Delayed         NaN   \n",
       "2        Communications              Delisted   11/7/2018   \n",
       "3      Internet Content              Delisted   9/10/2019   \n",
       "4                   NaN                   NaN         NaN   \n",
       "5                   NaN              Acquired   6/20/2023   \n",
       "6                   NaN              Acquired  10/16/2018   \n",
       "7                   NaN  OTCQB: EFLVD or ELVA    7/6/2023   \n",
       "8                   NaN              Acquired    4/6/2020   \n",
       "9        Transportation                   NaN         NaN   \n",
       "10        Biotechnology              Delisted    6/6/2023   \n",
       "11                  NaN              Delisted   6/29/2023   \n",
       "12               Pharma              Delisted   6/12/2023   \n",
       "13               Pharma              Delisted   5/11/2018   \n",
       "14                  NaN              Delisted  12/22/2017   \n",
       "15     Internet Content                   NaN   6/23/2015   \n",
       "16                 Oil              Deslisted    5/4/2022   \n",
       "17  Specialty Chemicals                   NaN         NaN   \n",
       "18             Software                   NaN         NaN   \n",
       "19     Online Retailing              Delisted    9/1/2020   \n",
       "20    Specialty Retails              Delisted   9/15/2020   \n",
       "21     Offshore Service              Acquired   8/17/2017   \n",
       "22      Marine Shipping                   NaN         NaN   \n",
       "23    Medical Equipment              Delisted    7/3/2023   \n",
       "24                  NaN              Acquired   2/23/2023   \n",
       "25                  NaN                   NaN         NaN   \n",
       "26   Telecommunications              Acquired  10/16/2023   \n",
       "27   Drug Manufacturers              Delisted   6/29/2023   \n",
       "28                  NaN               Defunct   7/14/2018   \n",
       "\n",
       "                                               Source  \\\n",
       "0       https://finance.yahoo.com/quote/AWLCF/profile   \n",
       "1              https://finance.yahoo.com/quote/BPMUF/   \n",
       "2             https://en.wikipedia.org/wiki/Sky_Group   \n",
       "3   https://www.globenewswire.com/news-release/201...   \n",
       "4                                                 NaN   \n",
       "5                                                link   \n",
       "6                                                link   \n",
       "7   https://electrovaya.com/press/electrovaya-anno...   \n",
       "8   https://www.marketscreener.com/quote/stock/ORB...   \n",
       "9                                                 NaN   \n",
       "10                                               link   \n",
       "11                                               link   \n",
       "12  https://www.indivior.com/en/investors/sharehol...   \n",
       "13  https://www.sec.gov/Archives/edgar/data/130926...   \n",
       "14     https://www.reuters.com/article/idUSKBN1EG0MK/   \n",
       "15  https://www.streetinsider.com/SEC+Filings/Form...   \n",
       "16  https://seekingalpha.com/article/4492891-trade...   \n",
       "17  https://www.globaldata.com/company-profile/oci...   \n",
       "18                                                NaN   \n",
       "19  https://en.wikipedia.org/wiki/Rocket_Internet#...   \n",
       "20  https://corporate.schoolspecialty.com/school-s...   \n",
       "21     https://www.deepwater.com/news/detail?ID=13211   \n",
       "22                                                NaN   \n",
       "23                                               link   \n",
       "24  https://www.prnewswire.com/news-releases/super...   \n",
       "25                                                NaN   \n",
       "26                                               link   \n",
       "27  https://ir.terrascend.com/news-events/press-re...   \n",
       "28              https://seekingalpha.com/symbol/VDNRF   \n",
       "\n",
       "                                               Others  \\\n",
       "0   https://naxs.se/en/awilco-drilling-plc-change-...   \n",
       "1                                                 NaN   \n",
       "2                                                 NaN   \n",
       "3                                                 NaN   \n",
       "4                                                 NaN   \n",
       "5                                                 NaN   \n",
       "6                                                 NaN   \n",
       "7                                                 NaN   \n",
       "8                                                 NaN   \n",
       "9                                                 NaN   \n",
       "10                                                NaN   \n",
       "11                                                NaN   \n",
       "12                                                NaN   \n",
       "13                                                NaN   \n",
       "14                                            LSE:ENT   \n",
       "15                                                NaN   \n",
       "16                                                NaN   \n",
       "17                                                NaN   \n",
       "18                                                NaN   \n",
       "19                                                NaN   \n",
       "20                                                NaN   \n",
       "21                                           NYSE:RIG   \n",
       "22                                            OSE:SNI   \n",
       "23                                   NYSE(AMEX):XTANT   \n",
       "24                                            ASX:CYL   \n",
       "25                                                NaN   \n",
       "26                                       NASDAQ:LBTYA   \n",
       "27                                                NaN   \n",
       "28                                                NaN   \n",
       "\n",
       "                   Unnamed: 9  \n",
       "0                         NaN  \n",
       "1                         NaN  \n",
       "2                         NaN  \n",
       "3                         NaN  \n",
       "4                         NaN  \n",
       "5                         NaN  \n",
       "6                         NaN  \n",
       "7                         NaN  \n",
       "8                         NaN  \n",
       "9                         NaN  \n",
       "10                        NaN  \n",
       "11                        NaN  \n",
       "12                        NaN  \n",
       "13                        NaN  \n",
       "14                        NaN  \n",
       "15                        NaN  \n",
       "16                        NaN  \n",
       "17                        NaN  \n",
       "18                        NaN  \n",
       "19                        NaN  \n",
       "20                        NaN  \n",
       "21                        NaN  \n",
       "22                        NaN  \n",
       "23  formerly RTI Surgical Inc  \n",
       "24                        NaN  \n",
       "25                        NaN  \n",
       "26                        NaN  \n",
       "27                        NaN  \n",
       "28                        NaN  "
      ]
     },
     "execution_count": 49,
     "metadata": {},
     "output_type": "execute_result"
    }
   ],
   "source": [
    "more_info_need_ticks"
   ]
  },
  {
   "cell_type": "code",
   "execution_count": 65,
   "metadata": {},
   "outputs": [],
   "source": [
    "aggregated2.loc[aggregated2['tick'] == 'AWLCF', 'delisted'] = 1\n",
    "ex1 = aggregated2.query(\"tick == 'AWLCF' \").iloc[:, 6:]"
   ]
  },
  {
   "cell_type": "code",
   "execution_count": 63,
   "metadata": {},
   "outputs": [],
   "source": [
    "pd.set_option('display.max_columns', None)"
   ]
  },
  {
   "cell_type": "code",
   "execution_count": 68,
   "metadata": {},
   "outputs": [
    {
     "data": {
      "application/vnd.plotly.v1+json": {
       "config": {
        "plotlyServerURL": "https://plot.ly"
       },
       "data": [
        {
         "hovertemplate": "variable=sma50_close<br>Q=%{x}<br>value=%{y}<extra></extra>",
         "legendgroup": "sma50_close",
         "line": {
          "color": "#636efa",
          "dash": "solid"
         },
         "marker": {
          "symbol": "circle"
         },
         "mode": "lines",
         "name": "sma50_close",
         "orientation": "v",
         "showlegend": true,
         "type": "scatter",
         "x": [
          "2016Q2",
          "2016Q3",
          "2016Q4",
          "2017Q1",
          "2017Q2",
          "2017Q3",
          "2017Q4",
          "2018Q1",
          "2018Q2",
          "2018Q4",
          "2019Q1",
          "2019Q2",
          "2019Q3",
          "2019Q4",
          "2020Q1",
          "2020Q4",
          "2021Q3",
          "2021Q4",
          "2022Q1",
          "2022Q2"
         ],
         "xaxis": "x",
         "y": [
          337.8608673095703,
          11.853022804260254,
          346.02068603515625,
          434.54424072265624,
          373.92125549316404,
          353.6350891113281,
          430.82872619628904,
          404.1737628173828,
          452.48881286621094,
          496.0002001953125,
          346.4529998779297,
          358.29899963378904,
          296.83880004882815,
          176.46800018310546,
          147.42,
          29.25680004119873,
          43.37999992370605,
          46.935199966430666,
          23.023000003397463,
          32.33660057067871
         ],
         "yaxis": "y"
        },
        {
         "hovertemplate": "variable=sma200_close<br>Q=%{x}<br>value=%{y}<extra></extra>",
         "legendgroup": "sma200_close",
         "line": {
          "color": "#EF553B",
          "dash": "solid"
         },
         "marker": {
          "symbol": "circle"
         },
         "mode": "lines",
         "name": "sma200_close",
         "orientation": "v",
         "showlegend": true,
         "type": "scatter",
         "x": [
          "2016Q2",
          "2016Q3",
          "2016Q4",
          "2017Q1",
          "2017Q2",
          "2017Q3",
          "2017Q4",
          "2018Q1",
          "2018Q2",
          "2018Q4",
          "2019Q1",
          "2019Q2",
          "2019Q3",
          "2019Q4",
          "2020Q1",
          "2020Q4",
          "2021Q3",
          "2021Q4",
          "2022Q1",
          "2022Q2"
         ],
         "xaxis": "x",
         "y": [
          380.44700363159177,
          6.88409977119416,
          342.3385250854492,
          367.0125433349609,
          383.6390257263184,
          384.12055892944335,
          385.03540237426756,
          391.7802201843262,
          252.57681800842286,
          503.31753631591795,
          480.52489013671874,
          417.8397998046875,
          351.64939971923826,
          287.2828998565674,
          214.01995002746582,
          45.9935800075531,
          46.416699934005734,
          47.230249938964846,
          39.31254990853369,
          35.13870011605322
         ],
         "yaxis": "y"
        }
       ],
       "layout": {
        "legend": {
         "title": {
          "text": "variable"
         },
         "tracegroupgap": 0
        },
        "margin": {
         "t": 60
        },
        "template": {
         "data": {
          "bar": [
           {
            "error_x": {
             "color": "#2a3f5f"
            },
            "error_y": {
             "color": "#2a3f5f"
            },
            "marker": {
             "line": {
              "color": "#E5ECF6",
              "width": 0.5
             },
             "pattern": {
              "fillmode": "overlay",
              "size": 10,
              "solidity": 0.2
             }
            },
            "type": "bar"
           }
          ],
          "barpolar": [
           {
            "marker": {
             "line": {
              "color": "#E5ECF6",
              "width": 0.5
             },
             "pattern": {
              "fillmode": "overlay",
              "size": 10,
              "solidity": 0.2
             }
            },
            "type": "barpolar"
           }
          ],
          "carpet": [
           {
            "aaxis": {
             "endlinecolor": "#2a3f5f",
             "gridcolor": "white",
             "linecolor": "white",
             "minorgridcolor": "white",
             "startlinecolor": "#2a3f5f"
            },
            "baxis": {
             "endlinecolor": "#2a3f5f",
             "gridcolor": "white",
             "linecolor": "white",
             "minorgridcolor": "white",
             "startlinecolor": "#2a3f5f"
            },
            "type": "carpet"
           }
          ],
          "choropleth": [
           {
            "colorbar": {
             "outlinewidth": 0,
             "ticks": ""
            },
            "type": "choropleth"
           }
          ],
          "contour": [
           {
            "colorbar": {
             "outlinewidth": 0,
             "ticks": ""
            },
            "colorscale": [
             [
              0,
              "#0d0887"
             ],
             [
              0.1111111111111111,
              "#46039f"
             ],
             [
              0.2222222222222222,
              "#7201a8"
             ],
             [
              0.3333333333333333,
              "#9c179e"
             ],
             [
              0.4444444444444444,
              "#bd3786"
             ],
             [
              0.5555555555555556,
              "#d8576b"
             ],
             [
              0.6666666666666666,
              "#ed7953"
             ],
             [
              0.7777777777777778,
              "#fb9f3a"
             ],
             [
              0.8888888888888888,
              "#fdca26"
             ],
             [
              1,
              "#f0f921"
             ]
            ],
            "type": "contour"
           }
          ],
          "contourcarpet": [
           {
            "colorbar": {
             "outlinewidth": 0,
             "ticks": ""
            },
            "type": "contourcarpet"
           }
          ],
          "heatmap": [
           {
            "colorbar": {
             "outlinewidth": 0,
             "ticks": ""
            },
            "colorscale": [
             [
              0,
              "#0d0887"
             ],
             [
              0.1111111111111111,
              "#46039f"
             ],
             [
              0.2222222222222222,
              "#7201a8"
             ],
             [
              0.3333333333333333,
              "#9c179e"
             ],
             [
              0.4444444444444444,
              "#bd3786"
             ],
             [
              0.5555555555555556,
              "#d8576b"
             ],
             [
              0.6666666666666666,
              "#ed7953"
             ],
             [
              0.7777777777777778,
              "#fb9f3a"
             ],
             [
              0.8888888888888888,
              "#fdca26"
             ],
             [
              1,
              "#f0f921"
             ]
            ],
            "type": "heatmap"
           }
          ],
          "heatmapgl": [
           {
            "colorbar": {
             "outlinewidth": 0,
             "ticks": ""
            },
            "colorscale": [
             [
              0,
              "#0d0887"
             ],
             [
              0.1111111111111111,
              "#46039f"
             ],
             [
              0.2222222222222222,
              "#7201a8"
             ],
             [
              0.3333333333333333,
              "#9c179e"
             ],
             [
              0.4444444444444444,
              "#bd3786"
             ],
             [
              0.5555555555555556,
              "#d8576b"
             ],
             [
              0.6666666666666666,
              "#ed7953"
             ],
             [
              0.7777777777777778,
              "#fb9f3a"
             ],
             [
              0.8888888888888888,
              "#fdca26"
             ],
             [
              1,
              "#f0f921"
             ]
            ],
            "type": "heatmapgl"
           }
          ],
          "histogram": [
           {
            "marker": {
             "pattern": {
              "fillmode": "overlay",
              "size": 10,
              "solidity": 0.2
             }
            },
            "type": "histogram"
           }
          ],
          "histogram2d": [
           {
            "colorbar": {
             "outlinewidth": 0,
             "ticks": ""
            },
            "colorscale": [
             [
              0,
              "#0d0887"
             ],
             [
              0.1111111111111111,
              "#46039f"
             ],
             [
              0.2222222222222222,
              "#7201a8"
             ],
             [
              0.3333333333333333,
              "#9c179e"
             ],
             [
              0.4444444444444444,
              "#bd3786"
             ],
             [
              0.5555555555555556,
              "#d8576b"
             ],
             [
              0.6666666666666666,
              "#ed7953"
             ],
             [
              0.7777777777777778,
              "#fb9f3a"
             ],
             [
              0.8888888888888888,
              "#fdca26"
             ],
             [
              1,
              "#f0f921"
             ]
            ],
            "type": "histogram2d"
           }
          ],
          "histogram2dcontour": [
           {
            "colorbar": {
             "outlinewidth": 0,
             "ticks": ""
            },
            "colorscale": [
             [
              0,
              "#0d0887"
             ],
             [
              0.1111111111111111,
              "#46039f"
             ],
             [
              0.2222222222222222,
              "#7201a8"
             ],
             [
              0.3333333333333333,
              "#9c179e"
             ],
             [
              0.4444444444444444,
              "#bd3786"
             ],
             [
              0.5555555555555556,
              "#d8576b"
             ],
             [
              0.6666666666666666,
              "#ed7953"
             ],
             [
              0.7777777777777778,
              "#fb9f3a"
             ],
             [
              0.8888888888888888,
              "#fdca26"
             ],
             [
              1,
              "#f0f921"
             ]
            ],
            "type": "histogram2dcontour"
           }
          ],
          "mesh3d": [
           {
            "colorbar": {
             "outlinewidth": 0,
             "ticks": ""
            },
            "type": "mesh3d"
           }
          ],
          "parcoords": [
           {
            "line": {
             "colorbar": {
              "outlinewidth": 0,
              "ticks": ""
             }
            },
            "type": "parcoords"
           }
          ],
          "pie": [
           {
            "automargin": true,
            "type": "pie"
           }
          ],
          "scatter": [
           {
            "fillpattern": {
             "fillmode": "overlay",
             "size": 10,
             "solidity": 0.2
            },
            "type": "scatter"
           }
          ],
          "scatter3d": [
           {
            "line": {
             "colorbar": {
              "outlinewidth": 0,
              "ticks": ""
             }
            },
            "marker": {
             "colorbar": {
              "outlinewidth": 0,
              "ticks": ""
             }
            },
            "type": "scatter3d"
           }
          ],
          "scattercarpet": [
           {
            "marker": {
             "colorbar": {
              "outlinewidth": 0,
              "ticks": ""
             }
            },
            "type": "scattercarpet"
           }
          ],
          "scattergeo": [
           {
            "marker": {
             "colorbar": {
              "outlinewidth": 0,
              "ticks": ""
             }
            },
            "type": "scattergeo"
           }
          ],
          "scattergl": [
           {
            "marker": {
             "colorbar": {
              "outlinewidth": 0,
              "ticks": ""
             }
            },
            "type": "scattergl"
           }
          ],
          "scattermapbox": [
           {
            "marker": {
             "colorbar": {
              "outlinewidth": 0,
              "ticks": ""
             }
            },
            "type": "scattermapbox"
           }
          ],
          "scatterpolar": [
           {
            "marker": {
             "colorbar": {
              "outlinewidth": 0,
              "ticks": ""
             }
            },
            "type": "scatterpolar"
           }
          ],
          "scatterpolargl": [
           {
            "marker": {
             "colorbar": {
              "outlinewidth": 0,
              "ticks": ""
             }
            },
            "type": "scatterpolargl"
           }
          ],
          "scatterternary": [
           {
            "marker": {
             "colorbar": {
              "outlinewidth": 0,
              "ticks": ""
             }
            },
            "type": "scatterternary"
           }
          ],
          "surface": [
           {
            "colorbar": {
             "outlinewidth": 0,
             "ticks": ""
            },
            "colorscale": [
             [
              0,
              "#0d0887"
             ],
             [
              0.1111111111111111,
              "#46039f"
             ],
             [
              0.2222222222222222,
              "#7201a8"
             ],
             [
              0.3333333333333333,
              "#9c179e"
             ],
             [
              0.4444444444444444,
              "#bd3786"
             ],
             [
              0.5555555555555556,
              "#d8576b"
             ],
             [
              0.6666666666666666,
              "#ed7953"
             ],
             [
              0.7777777777777778,
              "#fb9f3a"
             ],
             [
              0.8888888888888888,
              "#fdca26"
             ],
             [
              1,
              "#f0f921"
             ]
            ],
            "type": "surface"
           }
          ],
          "table": [
           {
            "cells": {
             "fill": {
              "color": "#EBF0F8"
             },
             "line": {
              "color": "white"
             }
            },
            "header": {
             "fill": {
              "color": "#C8D4E3"
             },
             "line": {
              "color": "white"
             }
            },
            "type": "table"
           }
          ]
         },
         "layout": {
          "annotationdefaults": {
           "arrowcolor": "#2a3f5f",
           "arrowhead": 0,
           "arrowwidth": 1
          },
          "autotypenumbers": "strict",
          "coloraxis": {
           "colorbar": {
            "outlinewidth": 0,
            "ticks": ""
           }
          },
          "colorscale": {
           "diverging": [
            [
             0,
             "#8e0152"
            ],
            [
             0.1,
             "#c51b7d"
            ],
            [
             0.2,
             "#de77ae"
            ],
            [
             0.3,
             "#f1b6da"
            ],
            [
             0.4,
             "#fde0ef"
            ],
            [
             0.5,
             "#f7f7f7"
            ],
            [
             0.6,
             "#e6f5d0"
            ],
            [
             0.7,
             "#b8e186"
            ],
            [
             0.8,
             "#7fbc41"
            ],
            [
             0.9,
             "#4d9221"
            ],
            [
             1,
             "#276419"
            ]
           ],
           "sequential": [
            [
             0,
             "#0d0887"
            ],
            [
             0.1111111111111111,
             "#46039f"
            ],
            [
             0.2222222222222222,
             "#7201a8"
            ],
            [
             0.3333333333333333,
             "#9c179e"
            ],
            [
             0.4444444444444444,
             "#bd3786"
            ],
            [
             0.5555555555555556,
             "#d8576b"
            ],
            [
             0.6666666666666666,
             "#ed7953"
            ],
            [
             0.7777777777777778,
             "#fb9f3a"
            ],
            [
             0.8888888888888888,
             "#fdca26"
            ],
            [
             1,
             "#f0f921"
            ]
           ],
           "sequentialminus": [
            [
             0,
             "#0d0887"
            ],
            [
             0.1111111111111111,
             "#46039f"
            ],
            [
             0.2222222222222222,
             "#7201a8"
            ],
            [
             0.3333333333333333,
             "#9c179e"
            ],
            [
             0.4444444444444444,
             "#bd3786"
            ],
            [
             0.5555555555555556,
             "#d8576b"
            ],
            [
             0.6666666666666666,
             "#ed7953"
            ],
            [
             0.7777777777777778,
             "#fb9f3a"
            ],
            [
             0.8888888888888888,
             "#fdca26"
            ],
            [
             1,
             "#f0f921"
            ]
           ]
          },
          "colorway": [
           "#636efa",
           "#EF553B",
           "#00cc96",
           "#ab63fa",
           "#FFA15A",
           "#19d3f3",
           "#FF6692",
           "#B6E880",
           "#FF97FF",
           "#FECB52"
          ],
          "font": {
           "color": "#2a3f5f"
          },
          "geo": {
           "bgcolor": "white",
           "lakecolor": "white",
           "landcolor": "#E5ECF6",
           "showlakes": true,
           "showland": true,
           "subunitcolor": "white"
          },
          "hoverlabel": {
           "align": "left"
          },
          "hovermode": "closest",
          "mapbox": {
           "style": "light"
          },
          "paper_bgcolor": "white",
          "plot_bgcolor": "#E5ECF6",
          "polar": {
           "angularaxis": {
            "gridcolor": "white",
            "linecolor": "white",
            "ticks": ""
           },
           "bgcolor": "#E5ECF6",
           "radialaxis": {
            "gridcolor": "white",
            "linecolor": "white",
            "ticks": ""
           }
          },
          "scene": {
           "xaxis": {
            "backgroundcolor": "#E5ECF6",
            "gridcolor": "white",
            "gridwidth": 2,
            "linecolor": "white",
            "showbackground": true,
            "ticks": "",
            "zerolinecolor": "white"
           },
           "yaxis": {
            "backgroundcolor": "#E5ECF6",
            "gridcolor": "white",
            "gridwidth": 2,
            "linecolor": "white",
            "showbackground": true,
            "ticks": "",
            "zerolinecolor": "white"
           },
           "zaxis": {
            "backgroundcolor": "#E5ECF6",
            "gridcolor": "white",
            "gridwidth": 2,
            "linecolor": "white",
            "showbackground": true,
            "ticks": "",
            "zerolinecolor": "white"
           }
          },
          "shapedefaults": {
           "line": {
            "color": "#2a3f5f"
           }
          },
          "ternary": {
           "aaxis": {
            "gridcolor": "white",
            "linecolor": "white",
            "ticks": ""
           },
           "baxis": {
            "gridcolor": "white",
            "linecolor": "white",
            "ticks": ""
           },
           "bgcolor": "#E5ECF6",
           "caxis": {
            "gridcolor": "white",
            "linecolor": "white",
            "ticks": ""
           }
          },
          "title": {
           "x": 0.05
          },
          "xaxis": {
           "automargin": true,
           "gridcolor": "white",
           "linecolor": "white",
           "ticks": "",
           "title": {
            "standoff": 15
           },
           "zerolinecolor": "white",
           "zerolinewidth": 2
          },
          "yaxis": {
           "automargin": true,
           "gridcolor": "white",
           "linecolor": "white",
           "ticks": "",
           "title": {
            "standoff": 15
           },
           "zerolinecolor": "white",
           "zerolinewidth": 2
          }
         }
        },
        "xaxis": {
         "anchor": "y",
         "domain": [
          0,
          1
         ],
         "title": {
          "text": "Q"
         }
        },
        "yaxis": {
         "anchor": "x",
         "domain": [
          0,
          1
         ],
         "title": {
          "text": "value"
         }
        }
       }
      }
     },
     "metadata": {},
     "output_type": "display_data"
    }
   ],
   "source": [
    "import plotly.express as px\n",
    "fig = px.line(ex1, x='Q', y=['sma50_close', 'sma200_close'])\n",
    "fig.show()"
   ]
  },
  {
   "cell_type": "code",
   "execution_count": 74,
   "metadata": {},
   "outputs": [],
   "source": [
    "aggregated2.tick.value_counts().reset_index().to_csv('D:/Data/edgar_financials_needed.csv', index='False')"
   ]
  },
  {
   "cell_type": "code",
   "execution_count": null,
   "metadata": {},
   "outputs": [],
   "source": []
  }
 ],
 "metadata": {
  "kernelspec": {
   "display_name": "earnings2_venv",
   "language": "python",
   "name": "python3"
  },
  "language_info": {
   "codemirror_mode": {
    "name": "ipython",
    "version": 3
   },
   "file_extension": ".py",
   "mimetype": "text/x-python",
   "name": "python",
   "nbconvert_exporter": "python",
   "pygments_lexer": "ipython3",
   "version": "3.11.5"
  }
 },
 "nbformat": 4,
 "nbformat_minor": 2
}
